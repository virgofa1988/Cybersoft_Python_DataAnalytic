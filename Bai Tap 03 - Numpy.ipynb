{
 "cells": [
  {
   "cell_type": "markdown",
   "id": "3b965da0",
   "metadata": {},
   "source": [
    "# Bài Tuần 03 - Numpy - Dữ liệu bán lẽ supermarket_sales_vn.csv"
   ]
  },
  {
   "cell_type": "markdown",
   "id": "ecd7d92d",
   "metadata": {},
   "source": [
    "Thực hiện lại bài tập với dữ liệu bán lẻ ở Tuần 2 nhưng sử dụng Numpy:\n",
    "1. Tìm min, max, mean, median, “mode” cho tổng đơn.\n",
    "2. Tìm min, max, mean, median, “mode” cho tổng đơn theo giới tính\n",
    "3. Tìm min, max, mean, median, “mode” cho tổng đơn theo chi nhánh\n",
    "4. Tìm min, max, mean, median, “mode” cho rating theo giới tính, chi nhánh.\n",
    "5. Lưu các kết quả lên file"
   ]
  },
  {
   "cell_type": "code",
   "execution_count": 13,
   "id": "96ead326",
   "metadata": {},
   "outputs": [],
   "source": [
    "# Import package\n",
    "import csv\n",
    "import numpy as np"
   ]
  },
  {
   "cell_type": "code",
   "execution_count": 14,
   "id": "e1f0f78b",
   "metadata": {},
   "outputs": [],
   "source": [
    "# Đọc dữ liệu\n",
    "filePath = \"./files/supermarket_sale_vn/supermarket_sales_vn.csv\"\n",
    "supermarket_data =[]\n",
    "with open(filePath,mode = \"r\", encoding=\"utf-8\") as f:\n",
    "    supermarket_reader = csv.DictReader(f,delimiter = \",\")\n",
    "    for row in supermarket_reader:\n",
    "        supermarket_data.append(row)\n",
    "    "
   ]
  },
  {
   "cell_type": "code",
   "execution_count": 46,
   "id": "618ade41",
   "metadata": {},
   "outputs": [],
   "source": [
    "# Lấy mảng cho tổng đơn\n",
    "tong_don = []\n",
    "gioi_tinh = []\n",
    "city=[]\n",
    "for row in supermarket_data:\n",
    "      tong_don.append(float(row['Total']))\n",
    "      gioi_tinh.append(row['Gender'])\n",
    "      city.append(row['City'])"
   ]
  },
  {
   "cell_type": "code",
   "execution_count": 43,
   "id": "096bbca8",
   "metadata": {},
   "outputs": [
    {
     "name": "stdout",
     "output_type": "stream",
     "text": [
      "Min Tổng Đơn 10.6785\n",
      "Max Tổng Đơn 1042.65\n",
      "Mean Tổng Đơn 322.966749\n",
      "Median Tổng Đơn 253.848\n",
      "------------\n",
      "Mode Tổng Đơn 82.916505\n"
     ]
    }
   ],
   "source": [
    "# 1. Tìm min, max, mean, median, “mode” cho tổng đơn.\n",
    "print(\"Min Tổng Đơn\", np.min(tong_don))\n",
    "print(\"Max Tổng Đơn\", np.max(tong_don))\n",
    "print(\"Mean Tổng Đơn\", np.mean(tong_don))\n",
    "print(\"Median Tổng Đơn\", np.median(tong_don))\n",
    "print(\"------------\")\n",
    "\n",
    "# Tìm Mode cho tổng đơn\n",
    "# Dùng histogram tìm count và bins\n",
    "count, bins = np.histogram(tong_don, bins = 50)\n",
    "\n",
    "# Tìm index của max count (bins có nhiều giá trị rớt vào)\n",
    "max_count_index = np.argmax(count)\n",
    "\n",
    "#Lấy trung bình giá trị đầu và cuối trong bins dựa vào max_count_index, \n",
    "mode = (bins[max_count_index] + bins[max_count_index + 1] ) /2 \n",
    "print(\"Mode Tổng Đơn\", mode)"
   ]
  },
  {
   "cell_type": "code",
   "execution_count": 44,
   "id": "721ddb52",
   "metadata": {},
   "outputs": [],
   "source": [
    "# 2. Tìm min, max, mean, median, “mode” cho tổng đơn theo giới tính"
   ]
  },
  {
   "cell_type": "code",
   "execution_count": 56,
   "id": "1ab58be7",
   "metadata": {},
   "outputs": [],
   "source": [
    "# Lấy mảng cho tổng đơn theo giới tính\n",
    "for gender in list(set(gioi_tinh)):\n",
    "    tong_don_gender[gender] = []\n",
    "    for row in supermarket_data:\n",
    "        if(gender == row['Gender']):tong_don_gender[gender].append(float(row['Total']))\n"
   ]
  },
  {
   "cell_type": "code",
   "execution_count": 64,
   "id": "b7593c5a",
   "metadata": {},
   "outputs": [
    {
     "name": "stdout",
     "output_type": "stream",
     "text": [
      "Min của Tổng Đơn theo Nữ: 12.6945\n",
      "Max của Tổng Đơn theo Nữ: 1042.65\n",
      "Mean của Tổng Đơn theo Nữ: 335.09565868263473\n",
      "Median của Tổng Đơn theo Nữ: 272.58\n",
      "----------------------------\n",
      "Min của Tổng Đơn theo Nam: 10.6785\n",
      "Max của Tổng Đơn theo Nam: 1039.29\n",
      "Mean của Tổng Đơn theo Nam: 310.7892264529058\n",
      "Median của Tổng Đơn theo Nam: 244.23\n",
      "----------------------------\n"
     ]
    }
   ],
   "source": [
    "for gender in tong_don_gender:\n",
    "    print(f\"Min của Tổng Đơn theo {gender}:\", np.min(tong_don_gender[gender]))\n",
    "    print(f\"Max của Tổng Đơn theo {gender}:\", np.max(tong_don_gender[gender]))\n",
    "    print(f\"Mean của Tổng Đơn theo {gender}:\", np.mean(tong_don_gender[gender]))\n",
    "    print(f\"Median của Tổng Đơn theo {gender}:\", np.median(tong_don_gender[gender]))\n",
    "    print(\"----------------------------\")"
   ]
  },
  {
   "cell_type": "code",
   "execution_count": null,
   "id": "b31264a7",
   "metadata": {},
   "outputs": [],
   "source": []
  }
 ],
 "metadata": {
  "kernelspec": {
   "display_name": "Python 3 (ipykernel)",
   "language": "python",
   "name": "python3"
  },
  "language_info": {
   "codemirror_mode": {
    "name": "ipython",
    "version": 3
   },
   "file_extension": ".py",
   "mimetype": "text/x-python",
   "name": "python",
   "nbconvert_exporter": "python",
   "pygments_lexer": "ipython3",
   "version": "3.9.7"
  }
 },
 "nbformat": 4,
 "nbformat_minor": 5
}
