{
 "cells": [
  {
   "cell_type": "code",
   "execution_count": 28,
   "id": "f0d0a0c7",
   "metadata": {},
   "outputs": [],
   "source": [
    "import numpy as np\n",
    "import scipy.stats as stats\n",
    "from matplotlib import pyplot as plt\n",
    "np.set_printoptions(precision = 3, suppress = True)"
   ]
  },
  {
   "cell_type": "code",
   "execution_count": 29,
   "id": "9a06a560",
   "metadata": {},
   "outputs": [],
   "source": [
    "# Load data\n",
    "flight_data = np.genfromtxt('./files/nycflights.csv',delimiter = \",\", skip_header=1)"
   ]
  },
  {
   "cell_type": "code",
   "execution_count": 30,
   "id": "f8fccc20",
   "metadata": {},
   "outputs": [
    {
     "name": "stdout",
     "output_type": "stream",
     "text": [
      "[   1. 2013.    1.    1.  517.    2.  830.   11.   nan   nan 1545.   nan\n",
      "   nan  227. 1400.    5.   17.   nan]\n"
     ]
    }
   ],
   "source": [
    "print(flight_data[0])"
   ]
  },
  {
   "cell_type": "code",
   "execution_count": 31,
   "id": "9554a139",
   "metadata": {},
   "outputs": [
    {
     "name": "stdout",
     "output_type": "stream",
     "text": [
      "(336776, 18)\n"
     ]
    }
   ],
   "source": [
    "print(flight_data.shape)"
   ]
  },
  {
   "cell_type": "code",
   "execution_count": 32,
   "id": "02844272",
   "metadata": {
    "scrolled": false
   },
   "outputs": [
    {
     "name": "stdout",
     "output_type": "stream",
     "text": [
      "[[ 2.  5. 11.]\n",
      " [ 4.  5. 20.]\n",
      " [ 2.  5. 33.]\n",
      " ...\n",
      " [nan nan nan]\n",
      " [nan nan nan]\n",
      " [nan nan nan]]\n"
     ]
    }
   ],
   "source": [
    "# Get Input data for model\n",
    "dep_delay = np.array([row[5] for row in flight_data])\n",
    "distance = np.array([row[-3] for row in flight_data])\n",
    "arr_delay = np.array([row[7] for row in flight_data])\n",
    "X = np.array([dep_delay,distance,arr_delay]).T\n",
    "print(X)"
   ]
  },
  {
   "cell_type": "markdown",
   "id": "43f3a8ce",
   "metadata": {},
   "source": [
    "# Cleaning data - remove NaN"
   ]
  },
  {
   "cell_type": "code",
   "execution_count": 33,
   "id": "a44d35b8",
   "metadata": {},
   "outputs": [
    {
     "data": {
      "text/plain": [
       "8255"
      ]
     },
     "execution_count": 33,
     "metadata": {},
     "output_type": "execute_result"
    }
   ],
   "source": [
    "# Có 8255 giá trị NaN trong cột dep_delay\n",
    "np.sum(np.isnan(dep_delay))"
   ]
  },
  {
   "cell_type": "code",
   "execution_count": 34,
   "id": "eca633c0",
   "metadata": {},
   "outputs": [
    {
     "data": {
      "text/plain": [
       "9430"
      ]
     },
     "execution_count": 34,
     "metadata": {},
     "output_type": "execute_result"
    }
   ],
   "source": [
    "# Có 9430 giá trị NaN trong cột arr_delay\n",
    "np.sum(np.isnan(arr_delay))"
   ]
  },
  {
   "cell_type": "code",
   "execution_count": 35,
   "id": "8d348229",
   "metadata": {},
   "outputs": [
    {
     "data": {
      "text/plain": [
       "array([   838,    839,    840, ..., 336773, 336774, 336775], dtype=int64)"
      ]
     },
     "execution_count": 35,
     "metadata": {},
     "output_type": "execute_result"
    }
   ],
   "source": [
    "#index của các giá trị NaN trong tập dep_delay\n",
    "dep_delay_index = np.argwhere(np.isnan(dep_delay)).squeeze()\n",
    "dep_delay_index"
   ]
  },
  {
   "cell_type": "code",
   "execution_count": 36,
   "id": "8d56198b",
   "metadata": {},
   "outputs": [
    {
     "data": {
      "text/plain": [
       "array([   471,    477,    615, ..., 336773, 336774, 336775], dtype=int64)"
      ]
     },
     "execution_count": 36,
     "metadata": {},
     "output_type": "execute_result"
    }
   ],
   "source": [
    "#index của các giá trị NaN trong tập arr_delay\n",
    "arr_delay_index = np.argwhere(np.isnan(arr_delay)).squeeze()\n",
    "arr_delay_index"
   ]
  },
  {
   "cell_type": "code",
   "execution_count": 37,
   "id": "147d676d",
   "metadata": {
    "scrolled": true
   },
   "outputs": [
    {
     "name": "stdout",
     "output_type": "stream",
     "text": [
      "(17685,)\n",
      "[   471    477    615 ... 336773 336774 336775]\n"
     ]
    }
   ],
   "source": [
    "index_nan = list(dep_delay_index) + list(arr_delay_index)\n",
    "print(np.sort(index_nan).shape)\n",
    "index_nan = np.unique(np.sort(index_nan))\n",
    "print(np.unique(np.sort(index_nan)))"
   ]
  },
  {
   "cell_type": "code",
   "execution_count": 38,
   "id": "933af505",
   "metadata": {},
   "outputs": [
    {
     "data": {
      "text/plain": [
       "(9430,)"
      ]
     },
     "execution_count": 38,
     "metadata": {},
     "output_type": "execute_result"
    }
   ],
   "source": [
    "index_nan.shape"
   ]
  },
  {
   "cell_type": "code",
   "execution_count": 39,
   "id": "b8a2f6c2",
   "metadata": {
    "scrolled": true
   },
   "outputs": [
    {
     "data": {
      "text/plain": [
       "array([[  2.,   5.,  11.],\n",
       "       [  4.,   5.,  20.],\n",
       "       [  2.,   5.,  33.],\n",
       "       ...,\n",
       "       [ -5.,  22., -16.],\n",
       "       [ 12.,  23.,   1.],\n",
       "       [-10.,  23., -25.]])"
      ]
     },
     "execution_count": 39,
     "metadata": {},
     "output_type": "execute_result"
    }
   ],
   "source": [
    "# Remove NaN\n",
    "cleaned_X = X[~np.isnan(arr_delay)]\n",
    "cleaned_X"
   ]
  },
  {
   "cell_type": "code",
   "execution_count": 40,
   "id": "e1176fb6",
   "metadata": {
    "scrolled": true
   },
   "outputs": [
    {
     "data": {
      "text/plain": [
       "array([[  2.,   5.],\n",
       "       [  4.,   5.],\n",
       "       [  2.,   5.],\n",
       "       ...,\n",
       "       [ -5.,  22.],\n",
       "       [ 12.,  23.],\n",
       "       [-10.,  23.]])"
      ]
     },
     "execution_count": 40,
     "metadata": {},
     "output_type": "execute_result"
    }
   ],
   "source": [
    "data_input = cleaned_X[:,0:2]\n",
    "data_input"
   ]
  },
  {
   "cell_type": "code",
   "execution_count": 41,
   "id": "c3d49167",
   "metadata": {},
   "outputs": [
    {
     "data": {
      "text/plain": [
       "array([ 11.,  20.,  33., ..., -16.,   1., -25.])"
      ]
     },
     "execution_count": 41,
     "metadata": {},
     "output_type": "execute_result"
    }
   ],
   "source": [
    "data_output = cleaned_X[:,2]\n",
    "data_output"
   ]
  },
  {
   "cell_type": "code",
   "execution_count": 45,
   "id": "19facabf",
   "metadata": {},
   "outputs": [
    {
     "name": "stdout",
     "output_type": "stream",
     "text": [
      "Data_input: (327346, 2)\n",
      "Data_output: 327346\n"
     ]
    }
   ],
   "source": [
    "print('Data_input:',data_input.shape)\n",
    "print('Data_output:',data_output.size)"
   ]
  },
  {
   "cell_type": "markdown",
   "id": "7d601a9e",
   "metadata": {},
   "source": [
    "# # Chia dữ liệu tập train và tập test"
   ]
  },
  {
   "cell_type": "code",
   "execution_count": 46,
   "id": "de80ed7b",
   "metadata": {},
   "outputs": [
    {
     "name": "stdout",
     "output_type": "stream",
     "text": [
      "[ 10161 171105 215210 ...  20463  18638 297827]\n",
      "(327346,)\n"
     ]
    }
   ],
   "source": [
    "# Tạo index\n",
    "np.random.seed(5)\n",
    "random_index = np.arange(data_output.size)\n",
    "np.random.shuffle(random_index)\n",
    "print(random_index)\n",
    "print(random_index.shape)"
   ]
  },
  {
   "cell_type": "code",
   "execution_count": 47,
   "id": "22ff62eb",
   "metadata": {},
   "outputs": [
    {
     "name": "stdout",
     "output_type": "stream",
     "text": [
      "(300000,)\n",
      "(27346,)\n"
     ]
    }
   ],
   "source": [
    "#Chia index\n",
    "N_TRAIN = 300000\n",
    "train_index = random_index[:N_TRAIN]\n",
    "test_index = random_index[N_TRAIN:]\n",
    "print(train_index.shape)\n",
    "print(test_index.shape)"
   ]
  },
  {
   "cell_type": "code",
   "execution_count": 48,
   "id": "055e5522",
   "metadata": {},
   "outputs": [
    {
     "name": "stdout",
     "output_type": "stream",
     "text": [
      "[[ -4.  16.]\n",
      " [  3.  10.]\n",
      " [128.  21.]\n",
      " ...\n",
      " [ -2.  10.]\n",
      " [184.  23.]\n",
      " [ -5.  10.]]\n",
      "[-21.   6.  89. ... -24. 158. -19.]\n",
      "[[-7.  8.]\n",
      " [ 7. 15.]\n",
      " [ 2. 20.]\n",
      " ...\n",
      " [19. 18.]\n",
      " [-4. 17.]\n",
      " [-5.  6.]]\n",
      "[-11.  21. -22. ... -14.  -5. -21.]\n"
     ]
    }
   ],
   "source": [
    "#Chia dữ liệu dựa trên 2 bộ index\n",
    "x_train, y_train = data_input[train_index], data_output[train_index]\n",
    "print(x_train)\n",
    "print(y_train)\n",
    "\n",
    "x_test, y_test = data_input[test_index], data_output[test_index]\n",
    "print(x_test)\n",
    "print(y_test)"
   ]
  },
  {
   "cell_type": "markdown",
   "id": "8c750cc8",
   "metadata": {},
   "source": [
    "##  Tạo mô hình Linear Regression\n",
    "Sử dụng lớp `LinearRegression` của thư viện `sklearn`"
   ]
  },
  {
   "cell_type": "code",
   "execution_count": 49,
   "id": "ae87fce1",
   "metadata": {},
   "outputs": [],
   "source": [
    "from sklearn.linear_model import LinearRegression\n",
    "model = LinearRegression()"
   ]
  },
  {
   "cell_type": "code",
   "execution_count": 50,
   "id": "cc1ecaf3",
   "metadata": {},
   "outputs": [
    {
     "data": {
      "text/plain": [
       "LinearRegression()"
      ]
     },
     "execution_count": 50,
     "metadata": {},
     "output_type": "execute_result"
    }
   ],
   "source": [
    "#Train model với bộ train x\n",
    "model.fit(x_train,y_train)"
   ]
  },
  {
   "cell_type": "code",
   "execution_count": 52,
   "id": "dd8b26d8",
   "metadata": {},
   "outputs": [
    {
     "data": {
      "text/plain": [
       "0.8368409538359806"
      ]
     },
     "execution_count": 52,
     "metadata": {},
     "output_type": "execute_result"
    }
   ],
   "source": [
    "# Kiểm định lại mô hình với R2\n",
    "r2 = model.score(x_train,y_train)\n",
    "r2"
   ]
  },
  {
   "cell_type": "code",
   "execution_count": 58,
   "id": "d6e8e6d4",
   "metadata": {},
   "outputs": [
    {
     "data": {
      "text/plain": [
       "array([ 1.021, -0.049])"
      ]
     },
     "execution_count": 58,
     "metadata": {},
     "output_type": "execute_result"
    }
   ],
   "source": [
    "#Hệ số a1 và a2 (Do data input có 2 trường là dep_delay và distance)\n",
    "# Hế số a1,a2 thể hiện độ dốc\n",
    "slope_a = model.coef_\n",
    "slope_a"
   ]
  },
  {
   "cell_type": "code",
   "execution_count": 57,
   "id": "a50034c5",
   "metadata": {},
   "outputs": [
    {
     "data": {
      "text/plain": [
       "-5.281095685038107"
      ]
     },
     "execution_count": 57,
     "metadata": {},
     "output_type": "execute_result"
    }
   ],
   "source": [
    "# Hế số b là điểm chặn của y\n",
    "intercept = model.intercept_\n",
    "intercept"
   ]
  },
  {
   "cell_type": "code",
   "execution_count": 64,
   "id": "fe6eaa4b",
   "metadata": {},
   "outputs": [
    {
     "name": "stdout",
     "output_type": "stream",
     "text": [
      "-10.143984974788367\n",
      "-11.0\n"
     ]
    }
   ],
   "source": [
    "# Dự đoán cho giá trị x_train[0]\n",
    "arr_delay_10 = model.predict([x_train[0]])[0]\n",
    "print(arr_delay_10)\n",
    "print(y_test[0])"
   ]
  },
  {
   "cell_type": "markdown",
   "id": "0c7cb930",
   "metadata": {},
   "source": [
    "-- Tương đối chính xác"
   ]
  },
  {
   "cell_type": "markdown",
   "id": "b9e00979",
   "metadata": {},
   "source": [
    "# Đánh giá trên tập test"
   ]
  },
  {
   "cell_type": "code",
   "execution_count": 215,
   "id": "da58d1af",
   "metadata": {},
   "outputs": [
    {
     "name": "stdout",
     "output_type": "stream",
     "text": [
      "0.8374348661818591\n"
     ]
    }
   ],
   "source": [
    "q2  = model.score(x_test, y_test)\n",
    "print(q2)"
   ]
  },
  {
   "cell_type": "code",
   "execution_count": 66,
   "id": "ee86a801",
   "metadata": {
    "scrolled": true
   },
   "outputs": [
    {
     "name": "stdout",
     "output_type": "stream",
     "text": [
      "[-12.816   1.133  -4.214 ...  13.237 -10.193 -10.677]\n",
      "[ -1.816 -19.867  17.786 ...  27.237  -5.193  10.323]\n"
     ]
    }
   ],
   "source": [
    "# Tìm độ sai số giữa tập dự đoán và tập test\n",
    "y_test_hat = model.predict(x_test)\n",
    "print(y_test_hat)\n",
    "print(y_test_hat - y_test)\n",
    "err = y_test_hat - y_test"
   ]
  },
  {
   "cell_type": "code",
   "execution_count": 93,
   "id": "0187f81c",
   "metadata": {
    "scrolled": true
   },
   "outputs": [
    {
     "name": "stdout",
     "output_type": "stream",
     "text": [
      "Mean: -0.025313871749675636\n",
      "Median: 1.6511748538793007\n",
      "Min: -186.56634168582886\n",
      "Max: 65.7877752921537\n",
      "Mode: 3.9610166325479668\n"
     ]
    }
   ],
   "source": [
    "# Phân tích err\n",
    "print('Mean:',np.mean(err))\n",
    "mean = np.mean(err)\n",
    "print('Median:',np.median(err))\n",
    "median = np.median(err)\n",
    "print('Min:',np.min(err))\n",
    "min_err = np.min(err)\n",
    "print('Max:', np.max(err))\n",
    "max_err = np.max(err)\n",
    "\n",
    "counts,bins = np.histogram(err, bins = 100)\n",
    "max_count_index = np.argmax(counts)\n",
    "mode = (bins[max_count_index] + bins[max_count_index+1])/2\n",
    "print('Mode:',mode)"
   ]
  },
  {
   "cell_type": "code",
   "execution_count": 78,
   "id": "99c069e0",
   "metadata": {},
   "outputs": [
    {
     "name": "stdout",
     "output_type": "stream",
     "text": [
      "std: 18.181785518880638\n"
     ]
    }
   ],
   "source": [
    "std = np.std(err)\n",
    "print('std:',std)"
   ]
  },
  {
   "cell_type": "code",
   "execution_count": 108,
   "id": "ca19ae44",
   "metadata": {},
   "outputs": [
    {
     "data": {
      "image/png": "[encoded data removed]",
      "text/plain": [
       "<Figure size 1152x432 with 1 Axes>"
      ]
     },
     "metadata": {
      "needs_background": "light"
     },
     "output_type": "display_data"
    }
   ],
   "source": [
    "# Vẽ err\n",
    "fig,ax = plt.subplots(figsize = (16,6))\n",
    "ax.hist(err,bins=100, edgecolor=\"k\")\n",
    "\n",
    "ax.axvline(mean, color='red', linestyle = 'dashed', linewidth=1)\n",
    "ax.text(mean + 5, 500, f\"Mean:\\n{mean:.2f}\", color='red')\n",
    "\n",
    "ax.axvline(mode, color='white', linestyle = 'dashed', linewidth=1)\n",
    "ax.text(mode + 2, 600, f\"Mode:\\n{mode:.2f}\", color='white')\n",
    "\n",
    "ax.axvline(median, color='purple', linestyle = 'dashed', linewidth=1)\n",
    "ax.text(median - 15, 520, f\"Median:\\n{median:.2f}\", color='purple')\n",
    "\n",
    "plt.title('Sai lệch giữa giá trị thực tế và dự đoán trong giờ đến trễ')\n",
    "plt.show()"
   ]
  },
  {
   "cell_type": "code",
   "execution_count": 95,
   "id": "f197bcf9",
   "metadata": {},
   "outputs": [
    {
     "name": "stdout",
     "output_type": "stream",
     "text": [
      "PCT 25% - 75%: [-8.782 10.898]\n",
      "QNT 0.25 - 0.75: [-8.782 10.898]\n"
     ]
    }
   ],
   "source": [
    "# Độ phân vị\n",
    "pct = np.percentile(err,[25,75])\n",
    "qnt = np.quantile(err,[0.25,0.75])\n",
    "print('PCT 25% - 75%:',pct)\n",
    "print('QNT 0.25 - 0.75:',qnt)"
   ]
  },
  {
   "cell_type": "code",
   "execution_count": 100,
   "id": "bdce4565",
   "metadata": {},
   "outputs": [
    {
     "data": {
      "image/png": "[encoded data removed]",
      "text/plain": [
       "<Figure size 1152x432 with 1 Axes>"
      ]
     },
     "metadata": {
      "needs_background": "light"
     },
     "output_type": "display_data"
    }
   ],
   "source": [
    "# Vẽ err\n",
    "fig,ax = plt.subplots(figsize = (16,6))\n",
    "ax.hist(err,bins=100, edgecolor=\"k\")\n",
    "\n",
    "ax.axvline(pct[0], color='red', linestyle = 'dashed', linewidth=1)\n",
    "ax.text(pct[0] -20, 500, f\"PCT_25%:\\n{pct[0]:.2f}\", color='black')\n",
    "\n",
    "ax.axvline(pct[1], color='red', linestyle = 'dashed', linewidth=1)\n",
    "ax.text(pct[1] + 2, 600, f\"PCT_75%:\\n{pct[1]:.2f}\", color='black')\n",
    "\n",
    "plt.title('Sai lệch giữa giá trị thực tế và dự đoán trong giờ đến trễ')\n",
    "plt.show()"
   ]
  },
  {
   "cell_type": "code",
   "execution_count": 101,
   "id": "d7b3219a",
   "metadata": {},
   "outputs": [
    {
     "name": "stdout",
     "output_type": "stream",
     "text": [
      "-10.774912720888459\n"
     ]
    }
   ],
   "source": [
    "arr_delay_test1 = model.predict([x_test[100]]).squeeze()\n",
    "print(arr_delay_test1)"
   ]
  },
  {
   "cell_type": "code",
   "execution_count": 102,
   "id": "422f4d19",
   "metadata": {},
   "outputs": [
    {
     "data": {
      "text/plain": [
       "-26.0"
      ]
     },
     "execution_count": 102,
     "metadata": {},
     "output_type": "execute_result"
    }
   ],
   "source": [
    "y_test[100]"
   ]
  },
  {
   "cell_type": "code",
   "execution_count": 104,
   "id": "315b544a",
   "metadata": {},
   "outputs": [
    {
     "data": {
      "image/png": "[encoded data removed]",
      "text/plain": [
       "<Figure size 576x360 with 1 Axes>"
      ]
     },
     "metadata": {
      "needs_background": "light"
     },
     "output_type": "display_data"
    }
   ],
   "source": [
    "# vẽ scatter thời gian thực tế và thời gian dự đoán\n",
    "plt.figure(figsize=(8,5))\n",
    "plt.scatter(y_test_hat,y_test)\n",
    "plt.show()"
   ]
  },
  {
   "cell_type": "code",
   "execution_count": 106,
   "id": "99ebca8e",
   "metadata": {},
   "outputs": [
    {
     "data": {
      "text/plain": [
       "array([[1.   , 0.915],\n",
       "       [0.915, 1.   ]])"
      ]
     },
     "execution_count": 106,
     "metadata": {},
     "output_type": "execute_result"
    }
   ],
   "source": [
    "# 2 Giá trị có tương quan rất mạnh và là positive correlation\n",
    "np.corrcoef(y_test_hat, y_test)"
   ]
  },
  {
   "cell_type": "markdown",
   "id": "55267199",
   "metadata": {},
   "source": [
    " - Mô hình test có độ chính xác"
   ]
  },
  {
   "cell_type": "code",
   "execution_count": null,
   "id": "79adef06",
   "metadata": {},
   "outputs": [],
   "source": []
  }
 ],
 "metadata": {
  "kernelspec": {
   "display_name": "Python 3 (ipykernel)",
   "language": "python",
   "name": "python3"
  },
  "language_info": {
   "codemirror_mode": {
    "name": "ipython",
    "version": 3
   },
   "file_extension": ".py",
   "mimetype": "text/x-python",
   "name": "python",
   "nbconvert_exporter": "python",
   "pygments_lexer": "ipython3",
   "version": "3.9.7"
  }
 },
 "nbformat": 4,
 "nbformat_minor": 5
}
