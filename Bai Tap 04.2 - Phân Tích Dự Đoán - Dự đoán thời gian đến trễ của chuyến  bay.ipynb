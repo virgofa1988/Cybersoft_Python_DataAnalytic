{
 "cells": [
  {
   "cell_type": "code",
   "execution_count": 1,
   "id": "f0d0a0c7",
   "metadata": {},
   "outputs": [],
   "source": [
    "import numpy as np\n",
    "import scipy.stats as stats\n",
    "from matplotlib import pyplot as plt\n",
    "np.set_printoptions(precision = 3, suppress = True)"
   ]
  },
  {
   "cell_type": "code",
   "execution_count": 2,
   "id": "9a06a560",
   "metadata": {},
   "outputs": [],
   "source": [
    "# Load data\n",
    "flight_data = np.genfromtxt('./files/nycflights.csv',delimiter = \",\", skip_header=1)"
   ]
  },
  {
   "cell_type": "code",
   "execution_count": 3,
   "id": "f8fccc20",
   "metadata": {},
   "outputs": [
    {
     "name": "stdout",
     "output_type": "stream",
     "text": [
      "[   1. 2013.    1.    1.  517.    2.  830.   11.   nan   nan 1545.   nan\n",
      "   nan  227. 1400.    5.   17.   nan]\n"
     ]
    }
   ],
   "source": [
    "print(flight_data[0])"
   ]
  },
  {
   "cell_type": "code",
   "execution_count": 4,
   "id": "9554a139",
   "metadata": {},
   "outputs": [
    {
     "name": "stdout",
     "output_type": "stream",
     "text": [
      "(336776, 18)\n"
     ]
    }
   ],
   "source": [
    "print(flight_data.shape)"
   ]
  },
  {
   "cell_type": "code",
   "execution_count": 5,
   "id": "02844272",
   "metadata": {
    "scrolled": false
   },
   "outputs": [
    {
     "name": "stdout",
     "output_type": "stream",
     "text": [
      "[[ 2.  5. 11.]\n",
      " [ 4.  5. 20.]\n",
      " [ 2.  5. 33.]\n",
      " ...\n",
      " [nan nan nan]\n",
      " [nan nan nan]\n",
      " [nan nan nan]]\n"
     ]
    }
   ],
   "source": [
    "# Get Input data for model\n",
    "dep_delay = np.array([row[5] for row in flight_data])\n",
    "distance = np.array([row[-3] for row in flight_data])\n",
    "arr_delay = np.array([row[7] for row in flight_data])\n",
    "X = np.array([dep_delay,distance,arr_delay]).T\n",
    "print(X)"
   ]
  },
  {
   "cell_type": "markdown",
   "id": "43f3a8ce",
   "metadata": {},
   "source": [
    "# Cleaning data - remove NaN"
   ]
  },
  {
   "cell_type": "code",
   "execution_count": 11,
   "id": "a44d35b8",
   "metadata": {},
   "outputs": [
    {
     "data": {
      "text/plain": [
       "8255"
      ]
     },
     "execution_count": 11,
     "metadata": {},
     "output_type": "execute_result"
    }
   ],
   "source": [
    "# Có 8255 giá trị NaN trong cột dep_delay\n",
    "np.sum(np.isnan(dep_delay))"
   ]
  },
  {
   "cell_type": "code",
   "execution_count": 10,
   "id": "eca633c0",
   "metadata": {},
   "outputs": [
    {
     "data": {
      "text/plain": [
       "9430"
      ]
     },
     "execution_count": 10,
     "metadata": {},
     "output_type": "execute_result"
    }
   ],
   "source": [
    "# Có 9430 giá trị NaN trong cột arr_delay\n",
    "np.sum(np.isnan(arr_delay))"
   ]
  },
  {
   "cell_type": "code",
   "execution_count": 12,
   "id": "8d348229",
   "metadata": {},
   "outputs": [
    {
     "data": {
      "text/plain": [
       "array([   838,    839,    840, ..., 336773, 336774, 336775], dtype=int64)"
      ]
     },
     "execution_count": 12,
     "metadata": {},
     "output_type": "execute_result"
    }
   ],
   "source": [
    "#index của các giá trị NaN trong tập dep_delay\n",
    "dep_delay_index = np.argwhere(np.isnan(dep_delay)).squeeze()\n",
    "dep_delay_index"
   ]
  },
  {
   "cell_type": "code",
   "execution_count": 13,
   "id": "8d56198b",
   "metadata": {},
   "outputs": [
    {
     "data": {
      "text/plain": [
       "array([   471,    477,    615, ..., 336773, 336774, 336775], dtype=int64)"
      ]
     },
     "execution_count": 13,
     "metadata": {},
     "output_type": "execute_result"
    }
   ],
   "source": [
    "#index của các giá trị NaN trong tập arr_delay\n",
    "arr_delay_index = np.argwhere(np.isnan(arr_delay)).squeeze()\n",
    "arr_delay_index"
   ]
  },
  {
   "cell_type": "code",
   "execution_count": 24,
   "id": "147d676d",
   "metadata": {
    "scrolled": true
   },
   "outputs": [
    {
     "name": "stdout",
     "output_type": "stream",
     "text": [
      "(17685,)\n",
      "[   471    477    615 ... 336773 336774 336775]\n"
     ]
    }
   ],
   "source": [
    "index_nan = list(dep_delay_index) + list(arr_delay_index)\n",
    "print(np.sort(index_nan).shape)\n",
    "index_nan = np.unique(np.sort(index_nan))\n",
    "print(np.unique(np.sort(index_nan)))"
   ]
  },
  {
   "cell_type": "code",
   "execution_count": 26,
   "id": "c500a3b0",
   "metadata": {},
   "outputs": [
    {
     "data": {
      "text/plain": [
       "(9430,)"
      ]
     },
     "execution_count": 26,
     "metadata": {},
     "output_type": "execute_result"
    }
   ],
   "source": [
    "index_nan.shape"
   ]
  },
  {
   "cell_type": "code",
   "execution_count": 197,
   "id": "b8a2f6c2",
   "metadata": {
    "scrolled": true
   },
   "outputs": [
    {
     "data": {
      "text/plain": [
       "array([[  2.,   5.,  11.],\n",
       "       [  4.,   5.,  20.],\n",
       "       [  2.,   5.,  33.],\n",
       "       ...,\n",
       "       [ -5.,  22., -16.],\n",
       "       [ 12.,  23.,   1.],\n",
       "       [-10.,  23., -25.]])"
      ]
     },
     "execution_count": 197,
     "metadata": {},
     "output_type": "execute_result"
    }
   ],
   "source": [
    "# Remove NaN\n",
    "cleaned_X = X[~np.isnan(arr_delay)]\n",
    "cleaned_X"
   ]
  },
  {
   "cell_type": "code",
   "execution_count": 198,
   "id": "e1176fb6",
   "metadata": {
    "scrolled": true
   },
   "outputs": [
    {
     "data": {
      "text/plain": [
       "array([[  2.,   5.],\n",
       "       [  4.,   5.],\n",
       "       [  2.,   5.],\n",
       "       ...,\n",
       "       [ -5.,  22.],\n",
       "       [ 12.,  23.],\n",
       "       [-10.,  23.]])"
      ]
     },
     "execution_count": 198,
     "metadata": {},
     "output_type": "execute_result"
    }
   ],
   "source": [
    "data_input = cleaned_X[:,0:2]\n",
    "data_input"
   ]
  },
  {
   "cell_type": "code",
   "execution_count": 199,
   "id": "c3d49167",
   "metadata": {},
   "outputs": [
    {
     "data": {
      "text/plain": [
       "array([ 11.,  20.,  33., ..., -16.,   1., -25.])"
      ]
     },
     "execution_count": 199,
     "metadata": {},
     "output_type": "execute_result"
    }
   ],
   "source": [
    "data_output = cleaned_X[:,2]\n",
    "data_output"
   ]
  },
  {
   "cell_type": "markdown",
   "id": "7d601a9e",
   "metadata": {},
   "source": [
    "# # Chia dữ liệu tập train và tập test"
   ]
  },
  {
   "cell_type": "code",
   "execution_count": 200,
   "id": "de80ed7b",
   "metadata": {},
   "outputs": [
    {
     "name": "stdout",
     "output_type": "stream",
     "text": [
      "[ 10161 171105 215210 ...  20463  18638 297827]\n",
      "(327346,)\n"
     ]
    }
   ],
   "source": [
    "np.random.seed(5)\n",
    "random_index = np.arange(data_output.size)\n",
    "np.random.shuffle(random_index)\n",
    "print(random_index)\n",
    "print(random_index.shape)"
   ]
  },
  {
   "cell_type": "code",
   "execution_count": 201,
   "id": "22ff62eb",
   "metadata": {},
   "outputs": [
    {
     "name": "stdout",
     "output_type": "stream",
     "text": [
      "(300000,)\n",
      "(27346,)\n"
     ]
    }
   ],
   "source": [
    "N_TRAIN = 300000\n",
    "train_index = random_index[:N_TRAIN]\n",
    "test_index = random_index[N_TRAIN:]\n",
    "print(train_index.shape)\n",
    "print(test_index.shape)"
   ]
  },
  {
   "cell_type": "code",
   "execution_count": 202,
   "id": "055e5522",
   "metadata": {},
   "outputs": [
    {
     "name": "stdout",
     "output_type": "stream",
     "text": [
      "[[ -4.  16.]\n",
      " [  3.  10.]\n",
      " [128.  21.]\n",
      " ...\n",
      " [ -2.  10.]\n",
      " [184.  23.]\n",
      " [ -5.  10.]]\n",
      "[-21.   6.  89. ... -24. 158. -19.]\n",
      "[[-7.  8.]\n",
      " [ 7. 15.]\n",
      " [ 2. 20.]\n",
      " ...\n",
      " [19. 18.]\n",
      " [-4. 17.]\n",
      " [-5.  6.]]\n",
      "[-11.  21. -22. ... -14.  -5. -21.]\n"
     ]
    }
   ],
   "source": [
    "x_train, y_train = data_input[train_index], data_output[train_index]\n",
    "print(x_train)\n",
    "print(y_train)\n",
    "\n",
    "x_test, y_test = data_input[test_index], data_output[test_index]\n",
    "print(x_test)\n",
    "print(y_test)"
   ]
  },
  {
   "cell_type": "markdown",
   "id": "8c750cc8",
   "metadata": {},
   "source": [
    "##  Tạo mô hình Linear Regression\n",
    "Sử dụng lớp `LinearRegression` của thư viện `sklearn`"
   ]
  },
  {
   "cell_type": "code",
   "execution_count": 203,
   "id": "ae87fce1",
   "metadata": {},
   "outputs": [],
   "source": [
    "from sklearn.linear_model import LinearRegression\n",
    "model = LinearRegression()"
   ]
  },
  {
   "cell_type": "code",
   "execution_count": 204,
   "id": "cc1ecaf3",
   "metadata": {},
   "outputs": [
    {
     "data": {
      "text/plain": [
       "LinearRegression()"
      ]
     },
     "execution_count": 204,
     "metadata": {},
     "output_type": "execute_result"
    }
   ],
   "source": [
    "#Train model\n",
    "model.fit(x_train,y_train)"
   ]
  },
  {
   "cell_type": "code",
   "execution_count": 205,
   "id": "dd8b26d8",
   "metadata": {},
   "outputs": [
    {
     "data": {
      "text/plain": [
       "0.8368409538359806"
      ]
     },
     "execution_count": 205,
     "metadata": {},
     "output_type": "execute_result"
    }
   ],
   "source": [
    "r2 = model.score(x_train,y_train)\n",
    "r2"
   ]
  },
  {
   "cell_type": "code",
   "execution_count": 206,
   "id": "d6e8e6d4",
   "metadata": {},
   "outputs": [
    {
     "data": {
      "text/plain": [
       "array([ 1.021, -0.049])"
      ]
     },
     "execution_count": 206,
     "metadata": {},
     "output_type": "execute_result"
    }
   ],
   "source": [
    "slope_a = model.coef_\n",
    "slope_a"
   ]
  },
  {
   "cell_type": "code",
   "execution_count": 207,
   "id": "a50034c5",
   "metadata": {},
   "outputs": [
    {
     "data": {
      "text/plain": [
       "-5.281095685038107"
      ]
     },
     "execution_count": 207,
     "metadata": {},
     "output_type": "execute_result"
    }
   ],
   "source": [
    "intercept = model.intercept_\n",
    "intercept"
   ]
  },
  {
   "cell_type": "code",
   "execution_count": 214,
   "id": "fe6eaa4b",
   "metadata": {},
   "outputs": [
    {
     "name": "stdout",
     "output_type": "stream",
     "text": [
      "-10.143984974788367\n",
      "-15.0\n"
     ]
    }
   ],
   "source": [
    "arr_delay_10 = model.predict([x_train[0]])[0]\n",
    "print(arr_delay_10)\n",
    "print(y_train[10])"
   ]
  },
  {
   "cell_type": "markdown",
   "id": "b9e00979",
   "metadata": {},
   "source": [
    "# Đánh giá trên tập test"
   ]
  },
  {
   "cell_type": "code",
   "execution_count": 215,
   "id": "da58d1af",
   "metadata": {},
   "outputs": [
    {
     "name": "stdout",
     "output_type": "stream",
     "text": [
      "0.8374348661818591\n"
     ]
    }
   ],
   "source": [
    "q2  = model.score(x_test, y_test)\n",
    "print(q2)"
   ]
  },
  {
   "cell_type": "code",
   "execution_count": 216,
   "id": "ee86a801",
   "metadata": {},
   "outputs": [
    {
     "name": "stdout",
     "output_type": "stream",
     "text": [
      "[-12.816   1.133  -4.214 ...  13.237 -10.193 -10.677]\n",
      "[ -1.816 -19.867  17.786 ...  27.237  -5.193  10.323]\n"
     ]
    }
   ],
   "source": [
    "y_test_hat = model.predict(x_test)\n",
    "print(y_test_hat)\n",
    "print(y_test_hat - y_test)"
   ]
  },
  {
   "cell_type": "code",
   "execution_count": 221,
   "id": "d7b3219a",
   "metadata": {},
   "outputs": [
    {
     "name": "stdout",
     "output_type": "stream",
     "text": [
      "-10.774912720888459\n"
     ]
    }
   ],
   "source": [
    "arr_delay_test1 = model.predict([x_test[100]]).squeeze()\n",
    "print(arr_delay_test1)"
   ]
  },
  {
   "cell_type": "code",
   "execution_count": 222,
   "id": "422f4d19",
   "metadata": {},
   "outputs": [
    {
     "data": {
      "text/plain": [
       "-26.0"
      ]
     },
     "execution_count": 222,
     "metadata": {},
     "output_type": "execute_result"
    }
   ],
   "source": [
    "y_test[100]"
   ]
  },
  {
   "cell_type": "code",
   "execution_count": null,
   "id": "315b544a",
   "metadata": {},
   "outputs": [],
   "source": []
  }
 ],
 "metadata": {
  "kernelspec": {
   "display_name": "Python 3 (ipykernel)",
   "language": "python",
   "name": "python3"
  },
  "language_info": {
   "codemirror_mode": {
    "name": "ipython",
    "version": 3
   },
   "file_extension": ".py",
   "mimetype": "text/x-python",
   "name": "python",
   "nbconvert_exporter": "python",
   "pygments_lexer": "ipython3",
   "version": "3.9.7"
  }
 },
 "nbformat": 4,
 "nbformat_minor": 5
}
