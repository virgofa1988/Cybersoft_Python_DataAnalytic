{
 "cells": [
  {
   "cell_type": "code",
   "execution_count": 21,
   "id": "387b24d8",
   "metadata": {},
   "outputs": [],
   "source": [
    "import csv"
   ]
  },
  {
   "cell_type": "code",
   "execution_count": 33,
   "id": "3c0bf7f4",
   "metadata": {},
   "outputs": [],
   "source": [
    "hotel_col = []\n",
    "cancel_col = []\n",
    "year_col = []\n",
    "month_col = []\n",
    "day_col = []\n",
    "weekend_night_col = []\n",
    "week_night_col = []\n",
    "adults_col = []\n",
    "children_col = []\n",
    "babies_col = []\n",
    "contry_col = []\n",
    "market_segment_col = []\n",
    "reserved_room_col = []\n",
    "assigned_room_col = []"
   ]
  },
  {
   "cell_type": "code",
   "execution_count": 44,
   "id": "94338790",
   "metadata": {},
   "outputs": [
    {
     "name": "stdout",
     "output_type": "stream",
     "text": [
      "<class '_csv.reader'>\n"
     ]
    }
   ],
   "source": [
    "with open('hotel_bookings.csv', 'r', encoding='utf-8') as f:\n",
    "    data_reader = csv.reader(f)\n",
    "    \n",
    "    print(type(data_reader))\n",
    "    next(data_reader)\n",
    "    for row in data_reader:\n",
    "        hotel = row[0]\n",
    "        cancel = row[1]\n",
    "        year = row[3]\n",
    "        month = row[4]\n",
    "        day = row[6]\n",
    "        weekend_night = row[7]\n",
    "        week_night = row[8]\n",
    "        adults = row[9]\n",
    "        children = row[10]\n",
    "        babies = row[11]\n",
    "        contry = row[13]\n",
    "        market_segment = row[14]\n",
    "        reserved_room = row[19]\n",
    "        assigned_room = row[20]\n",
    "        hotel_col.append(hotel)\n",
    "        cancel_col.append(cancel)\n",
    "        year_col.append(year)\n",
    "        month_col.append(month)\n",
    "        day_col.append(day)\n",
    "        #weekend_night.append(weekend_night)\n",
    "        #week_night.append(week_night)\n",
    "        adults_col.append(adults)\n",
    "        #children_col.append(childrenl)\n",
    "        babies_col.append(babies)\n",
    "        contry_col.append(contry)\n",
    "        market_segment_col.append(market_segment)\n",
    "        reserved_room_col.append(reserved_room)\n",
    "        assigned_room_col.append(assigned_room)"
   ]
  },
  {
   "cell_type": "code",
   "execution_count": 45,
   "id": "f9487af0",
   "metadata": {},
   "outputs": [
    {
     "data": {
      "text/plain": [
       "{'City Hotel', 'Resort Hotel'}"
      ]
     },
     "execution_count": 45,
     "metadata": {},
     "output_type": "execute_result"
    }
   ],
   "source": [
    "set(hotel_col)"
   ]
  },
  {
   "cell_type": "code",
   "execution_count": 46,
   "id": "d4c22856",
   "metadata": {},
   "outputs": [
    {
     "data": {
      "text/plain": [
       "{'2015', '2016', '2017'}"
      ]
     },
     "execution_count": 46,
     "metadata": {},
     "output_type": "execute_result"
    }
   ],
   "source": [
    "set(year_col)"
   ]
  },
  {
   "cell_type": "code",
   "execution_count": 83,
   "id": "9fe6465d",
   "metadata": {},
   "outputs": [],
   "source": [
    "month_th = list(set(month_col))"
   ]
  },
  {
   "cell_type": "code",
   "execution_count": 145,
   "id": "c3a3d348",
   "metadata": {},
   "outputs": [],
   "source": [
    "contry = list(set(contry_col))"
   ]
  },
  {
   "cell_type": "code",
   "execution_count": 51,
   "id": "9d80aef2",
   "metadata": {},
   "outputs": [
    {
     "data": {
      "text/plain": [
       "178"
      ]
     },
     "execution_count": 51,
     "metadata": {},
     "output_type": "execute_result"
    }
   ],
   "source": [
    "len(set(contry_col))"
   ]
  },
  {
   "cell_type": "code",
   "execution_count": 137,
   "id": "8a72e563",
   "metadata": {},
   "outputs": [
    {
     "data": {
      "text/plain": [
       "['Direct',\n",
       " 'Offline TA/TO',\n",
       " 'Corporate',\n",
       " 'Aviation',\n",
       " 'Online TA',\n",
       " 'Complementary',\n",
       " 'Undefined',\n",
       " 'Groups']"
      ]
     },
     "execution_count": 137,
     "metadata": {},
     "output_type": "execute_result"
    }
   ],
   "source": [
    "market = list(set(market_segment_col))\n",
    "market"
   ]
  },
  {
   "cell_type": "code",
   "execution_count": 177,
   "id": "e11f5ced",
   "metadata": {},
   "outputs": [
    {
     "data": {
      "text/plain": [
       "['H', 'F', 'P', 'L', 'E', 'C', 'A', 'D', 'B', 'G']"
      ]
     },
     "execution_count": 177,
     "metadata": {},
     "output_type": "execute_result"
    }
   ],
   "source": [
    "reserved= list(set(reserved_room_col))\n",
    "reserved"
   ]
  },
  {
   "cell_type": "code",
   "execution_count": 54,
   "id": "b0f44700",
   "metadata": {},
   "outputs": [
    {
     "data": {
      "text/plain": [
       "10"
      ]
     },
     "execution_count": 54,
     "metadata": {},
     "output_type": "execute_result"
    }
   ],
   "source": [
    "len(set(reserved_room_col))"
   ]
  },
  {
   "cell_type": "code",
   "execution_count": 178,
   "id": "4898c035",
   "metadata": {},
   "outputs": [
    {
     "data": {
      "text/plain": [
       "['I', 'F', 'H', 'P', 'L', 'E', 'C', 'A', 'D', 'B', 'G', 'K']"
      ]
     },
     "execution_count": 178,
     "metadata": {},
     "output_type": "execute_result"
    }
   ],
   "source": [
    "assigned = list(set(assigned_room_col))\n",
    "assigned"
   ]
  },
  {
   "cell_type": "code",
   "execution_count": 56,
   "id": "b166c47a",
   "metadata": {},
   "outputs": [
    {
     "data": {
      "text/plain": [
       "12"
      ]
     },
     "execution_count": 56,
     "metadata": {},
     "output_type": "execute_result"
    }
   ],
   "source": [
    "len(set(assigned_room_col))"
   ]
  },
  {
   "cell_type": "code",
   "execution_count": 61,
   "id": "c8b083b7",
   "metadata": {},
   "outputs": [],
   "source": [
    "count_hotel = []"
   ]
  },
  {
   "cell_type": "code",
   "execution_count": 62,
   "id": "f23a98e0",
   "metadata": {},
   "outputs": [
    {
     "name": "stdout",
     "output_type": "stream",
     "text": [
      "158660 80128\n"
     ]
    }
   ],
   "source": [
    "count_CH = 0\n",
    "count_RH = 0\n",
    "\n",
    "for hotel_chon in hotel_col:\n",
    "    if hotel_chon == 'City Hotel': count_CH += 1\n",
    "    else : count_RH += 1\n",
    "\n",
    "print(count_CH,count_RH)\n",
    "count_hotel.append(count_CH)"
   ]
  },
  {
   "cell_type": "code",
   "execution_count": 64,
   "id": "2db9186d",
   "metadata": {},
   "outputs": [],
   "source": [
    "count_hotel.append(count_RH)"
   ]
  },
  {
   "cell_type": "code",
   "execution_count": 58,
   "id": "ca996cf9",
   "metadata": {},
   "outputs": [
    {
     "name": "stdout",
     "output_type": "stream",
     "text": [
      "Requirement already satisfied: matplotlib in c:\\users\\hp\\anaconda3\\lib\\site-packages (3.5.1)\n",
      "Requirement already satisfied: pyparsing>=2.2.1 in c:\\users\\hp\\anaconda3\\lib\\site-packages (from matplotlib) (3.0.4)\n",
      "Requirement already satisfied: cycler>=0.10 in c:\\users\\hp\\anaconda3\\lib\\site-packages (from matplotlib) (0.10.0)\n",
      "Requirement already satisfied: packaging>=20.0 in c:\\users\\hp\\anaconda3\\lib\\site-packages (from matplotlib) (21.0)\n",
      "Requirement already satisfied: kiwisolver>=1.0.1 in c:\\users\\hp\\anaconda3\\lib\\site-packages (from matplotlib) (1.3.1)\n",
      "Requirement already satisfied: pillow>=6.2.0 in c:\\users\\hp\\anaconda3\\lib\\site-packages (from matplotlib) (8.4.0)\n",
      "Requirement already satisfied: numpy>=1.17 in c:\\users\\hp\\anaconda3\\lib\\site-packages (from matplotlib) (1.20.3)\n",
      "Requirement already satisfied: fonttools>=4.22.0 in c:\\users\\hp\\anaconda3\\lib\\site-packages (from matplotlib) (4.25.0)\n",
      "Requirement already satisfied: python-dateutil>=2.7 in c:\\users\\hp\\anaconda3\\lib\\site-packages (from matplotlib) (2.8.2)\n",
      "Requirement already satisfied: six in c:\\users\\hp\\anaconda3\\lib\\site-packages (from cycler>=0.10->matplotlib) (1.16.0)\n",
      "Note: you may need to restart the kernel to use updated packages.\n"
     ]
    }
   ],
   "source": [
    "%pip install --upgrade matplotlib"
   ]
  },
  {
   "cell_type": "code",
   "execution_count": 59,
   "id": "54ce9e09",
   "metadata": {},
   "outputs": [
    {
     "name": "stdout",
     "output_type": "stream",
     "text": [
      "3.5.1\n"
     ]
    }
   ],
   "source": [
    "import matplotlib\n",
    "from matplotlib import pyplot as plt\n",
    "print(matplotlib.__version__)"
   ]
  },
  {
   "cell_type": "code",
   "execution_count": 68,
   "id": "fc641a1d",
   "metadata": {},
   "outputs": [
    {
     "data": {
      "text/plain": [
       "[158660, 80128]"
      ]
     },
     "execution_count": 68,
     "metadata": {},
     "output_type": "execute_result"
    }
   ],
   "source": [
    "count_hotel"
   ]
  },
  {
   "cell_type": "code",
   "execution_count": 72,
   "id": "1a3b890e",
   "metadata": {},
   "outputs": [],
   "source": [
    "import numpy as np"
   ]
  },
  {
   "cell_type": "code",
   "execution_count": 73,
   "id": "57fb69ee",
   "metadata": {},
   "outputs": [
    {
     "data": {
      "image/png": "[encoded data removed]",
      "text/plain": [
       "<Figure size 432x288 with 1 Axes>"
      ]
     },
     "metadata": {
      "needs_background": "light"
     },
     "output_type": "display_data"
    }
   ],
   "source": [
    "ind = np.array([1,2])\n",
    "bar = plt.bar(ind, count_hotel)\n",
    "plt.xlabel(\"Hotel\")\n",
    "plt.ylabel('Number')\n",
    "plt.xticks(ind,['City Hotel', 'City Hotel'])\n",
    "plt.show()"
   ]
  },
  {
   "cell_type": "code",
   "execution_count": 74,
   "id": "bd9c115e",
   "metadata": {},
   "outputs": [],
   "source": [
    "count_year = []"
   ]
  },
  {
   "cell_type": "code",
   "execution_count": 76,
   "id": "3fb3dd20",
   "metadata": {},
   "outputs": [
    {
     "name": "stdout",
     "output_type": "stream",
     "text": [
      "44000 113414 125374\n"
     ]
    }
   ],
   "source": [
    "count_2015 = 0\n",
    "count_2016 = 0\n",
    "count_2017 = 0\n",
    "\n",
    "for year_chon in year_col:\n",
    "    if year_chon == '2015': count_2015 += 1\n",
    "    if year_chon == '2016': count_2016 += 1\n",
    "    else : count_2017 += 1\n",
    "\n",
    "print(count_2015,count_2016,count_2017)\n",
    "count_year.append(count_2015)\n",
    "count_year.append(count_2016)\n",
    "count_year.append(count_2017)"
   ]
  },
  {
   "cell_type": "code",
   "execution_count": 79,
   "id": "0b59ce59",
   "metadata": {},
   "outputs": [
    {
     "data": {
      "image/png": "[encoded data removed]",
      "text/plain": [
       "<Figure size 432x288 with 1 Axes>"
      ]
     },
     "metadata": {
      "needs_background": "light"
     },
     "output_type": "display_data"
    }
   ],
   "source": [
    "ind1 = np.array([1,2,3])\n",
    "bar = plt.bar(ind1, count_year, color = \"g\")\n",
    "plt.xlabel(\"Year\")\n",
    "plt.ylabel('Number')\n",
    "plt.xticks(ind1,['2015', '2016','2017'])\n",
    "plt.show()"
   ]
  },
  {
   "cell_type": "code",
   "execution_count": 113,
   "id": "ad43fb73",
   "metadata": {},
   "outputs": [
    {
     "data": {
      "text/plain": [
       "['October',\n",
       " 'August',\n",
       " 'March',\n",
       " 'April',\n",
       " 'November',\n",
       " 'May',\n",
       " 'July',\n",
       " 'January',\n",
       " 'December',\n",
       " 'September',\n",
       " 'June',\n",
       " 'February']"
      ]
     },
     "execution_count": 113,
     "metadata": {},
     "output_type": "execute_result"
    }
   ],
   "source": [
    "month_th"
   ]
  },
  {
   "cell_type": "code",
   "execution_count": 88,
   "id": "3dc5dad5",
   "metadata": {},
   "outputs": [],
   "source": [
    "month12 = []"
   ]
  },
  {
   "cell_type": "code",
   "execution_count": 89,
   "id": "06a9459b",
   "metadata": {},
   "outputs": [
    {
     "name": "stdout",
     "output_type": "stream",
     "text": [
      "October 22320\n",
      "August 27754\n",
      "March 19588\n",
      "April 22178\n",
      "November 13588\n",
      "May 23582\n",
      "July 25330\n",
      "January 11858\n",
      "December 13560\n",
      "September 21016\n",
      "June 21878\n",
      "February 16136\n"
     ]
    }
   ],
   "source": [
    "for i in range(len(month_th)):\n",
    "    month = month_th[i]\n",
    "    count = 0\n",
    "    for month_chon in month_col:\n",
    "        if month_chon == month: count +=1\n",
    "    print(month,count)\n",
    "    month12.append(count)"
   ]
  },
  {
   "cell_type": "code",
   "execution_count": 135,
   "id": "61899d43",
   "metadata": {},
   "outputs": [
    {
     "data": {
      "image/png": "[encoded data removed]",
      "text/plain": [
       "<Figure size 432x288 with 1 Axes>"
      ]
     },
     "metadata": {
      "needs_background": "light"
     },
     "output_type": "display_data"
    }
   ],
   "source": [
    "ind2 = np.arange(1,13)\n",
    "\n",
    "bar = plt.bar(ind2, month12, width = 0.25, color = \"r\")\n",
    "plt.xlabel(\"Month\")\n",
    "plt.ylabel('Number')\n",
    "plt.xticks(ind2, month_th, fontsize = 5)\n",
    "plt.show()"
   ]
  },
  {
   "cell_type": "code",
   "execution_count": 151,
   "id": "72fa5d46",
   "metadata": {},
   "outputs": [],
   "source": [
    "market_th = []"
   ]
  },
  {
   "cell_type": "code",
   "execution_count": 152,
   "id": "33493b47",
   "metadata": {},
   "outputs": [
    {
     "name": "stdout",
     "output_type": "stream",
     "text": [
      "Direct 25212\n",
      "Offline TA/TO 48438\n",
      "Corporate 10590\n",
      "Aviation 474\n",
      "Online TA 112954\n",
      "Complementary 1486\n",
      "Undefined 4\n",
      "Groups 39622\n"
     ]
    }
   ],
   "source": [
    "for i in range(len(market)):\n",
    "    mark = market[i]\n",
    "    count = 0\n",
    "    for mark_chon in market_segment_col:\n",
    "        if mark_chon == mark: count +=1\n",
    "    print(mark,count)\n",
    "    market_th.append(count)"
   ]
  },
  {
   "cell_type": "code",
   "execution_count": 153,
   "id": "607f0902",
   "metadata": {},
   "outputs": [
    {
     "data": {
      "image/png": "[encoded data removed]",
      "text/plain": [
       "<Figure size 432x288 with 1 Axes>"
      ]
     },
     "metadata": {
      "needs_background": "light"
     },
     "output_type": "display_data"
    }
   ],
   "source": [
    "ind3 = np.arange(1,9)\n",
    "\n",
    "bar = plt.bar(ind3, market_th, width = 0.75, color = \"y\")\n",
    "plt.xlabel(\"Segment\")\n",
    "plt.ylabel('Number')\n",
    "plt.xticks(ind3, market, fontsize = 5)\n",
    "plt.show()"
   ]
  },
  {
   "cell_type": "code",
   "execution_count": 158,
   "id": "5bb86e2c",
   "metadata": {},
   "outputs": [],
   "source": [
    "contry_th = []\n",
    "list_contry = []"
   ]
  },
  {
   "cell_type": "code",
   "execution_count": 159,
   "id": "af29e10e",
   "metadata": {},
   "outputs": [
    {
     "name": "stdout",
     "output_type": "stream",
     "text": [
      "MLT 36\n",
      "CZE 342\n",
      "PRY 8\n",
      "ISL 114\n",
      "HKG 58\n",
      "DZA 206\n",
      "ALB 24\n",
      "SRB 202\n",
      "SMR 2\n",
      "MKD 20\n",
      "LBY 16\n",
      "SAU 96\n",
      "MYS 56\n",
      "SGP 78\n",
      "NIC 2\n",
      "VEN 52\n",
      "PRT 97180\n",
      "IDN 70\n",
      "ROU 1000\n",
      "SUR 10\n",
      "ECU 54\n",
      "AGO 724\n",
      "BOL 20\n",
      "NZL 148\n",
      "IMN 4\n",
      "MUS 14\n",
      "CN 2558\n",
      "GTM 8\n",
      "FRO 10\n",
      "MOZ 134\n",
      "CPV 48\n",
      "BGR 150\n",
      "SYC 4\n",
      "STP 4\n",
      "CMR 20\n",
      "DNK 870\n",
      "OMN 36\n",
      "TWN 102\n",
      "LKA 14\n",
      "ARE 102\n",
      "GLP 4\n",
      "RWA 4\n",
      "HND 2\n",
      "BIH 26\n",
      "BFA 2\n",
      "IRL 6750\n",
      "HUN 460\n",
      "NAM 2\n",
      "GIB 36\n",
      "SVN 114\n",
      "IND 304\n",
      "IRQ 28\n",
      "MCO 8\n",
      "EST 166\n",
      "BRA 4448\n",
      "ISR 1338\n",
      "PAK 28\n",
      "TJK 18\n",
      "BEN 6\n",
      "CRI 38\n",
      "FIN 894\n",
      "PAN 18\n",
      "JAM 12\n",
      "VNM 16\n",
      "SVK 130\n",
      "MMR 2\n",
      "ZAF 160\n",
      "ARG 428\n",
      "GNB 18\n",
      "MAR 518\n",
      "MNE 10\n",
      "SDN 2\n",
      "GUY 2\n",
      "KIR 2\n",
      "ZWE 8\n",
      "TUR 496\n",
      "POL 1838\n",
      "CUB 16\n",
      "JOR 42\n",
      "TUN 78\n",
      "CYM 2\n",
      "PRI 24\n",
      "MLI 2\n",
      "AZE 34\n",
      "CIV 12\n",
      "URY 64\n",
      "BHR 10\n",
      "THA 118\n",
      "BHS 2\n",
      "QAT 30\n",
      "LTU 162\n",
      "BLR 52\n",
      "VGB 2\n",
      "ETH 6\n",
      "CHN 1998\n",
      "AUT 2526\n",
      "BEL 4684\n",
      "ATA 4\n",
      "LBN 62\n",
      "SWE 2048\n",
      "SYR 6\n",
      "NCL 2\n",
      "NLD 4208\n",
      "AUS 852\n",
      "MDV 24\n",
      "DJI 2\n",
      "NGA 68\n",
      "LAO 4\n",
      "LVA 110\n",
      "MRT 2\n",
      "JEY 16\n",
      "DEU 14574\n",
      "MEX 170\n",
      "EGY 64\n",
      "RUS 1264\n",
      "KHM 4\n",
      "GAB 8\n",
      "PER 58\n",
      "PYF 2\n",
      "IRN 166\n",
      "ATF 2\n",
      "BGD 24\n",
      "COL 142\n",
      "NOR 1214\n",
      "FRA 20830\n",
      "CAF 10\n",
      "TMP 6\n",
      "ARM 16\n",
      "USA 4194\n",
      "LCA 2\n",
      "MAC 32\n",
      "AND 14\n",
      "AIA 2\n",
      "CHE 3460\n",
      "NPL 2\n",
      "SEN 22\n",
      "ASM 2\n",
      "UGA 4\n",
      "SLV 4\n",
      "BWA 2\n",
      "DOM 28\n",
      "HRV 200\n",
      "TZA 10\n",
      "UMI 2\n",
      "SLE 2\n",
      "KWT 32\n",
      "CYP 102\n",
      "BDI 2\n",
      "GGY 6\n",
      "PHL 80\n",
      "GRC 256\n",
      "ITA 7532\n",
      "BRB 8\n",
      "CHL 130\n",
      "KOR 266\n",
      "UKR 136\n",
      "GBR 24258\n",
      "MWI 4\n",
      "LIE 6\n",
      "ABW 4\n",
      "COM 4\n",
      "ZMB 4\n",
      "MDG 2\n",
      "FJI 2\n",
      "LUX 574\n",
      "JPN 394\n",
      "DMA 2\n",
      "ESP 17136\n",
      "UZB 8\n",
      "NULL 976\n",
      "KNA 4\n",
      "GEO 44\n",
      "MYT 4\n",
      "TGO 4\n",
      "PLW 2\n",
      "GHA 8\n",
      "KAZ 38\n",
      "KEN 12\n"
     ]
    }
   ],
   "source": [
    "for i in range(len(contry)):\n",
    "    contr = contry[i]\n",
    "    count = 0\n",
    "    for contr_chon in contry_col:\n",
    "        if contr_chon == contr: count +=1\n",
    "    print(contr,count)\n",
    "    contry_th.append(count)\n",
    "    list_contry.append(contr)"
   ]
  },
  {
   "cell_type": "code",
   "execution_count": 165,
   "id": "20a0bad8",
   "metadata": {},
   "outputs": [],
   "source": [
    "ds1 = []\n",
    "ds2 = []"
   ]
  },
  {
   "cell_type": "code",
   "execution_count": 167,
   "id": "8d515e25",
   "metadata": {},
   "outputs": [
    {
     "name": "stdout",
     "output_type": "stream",
     "text": [
      "[132 136 120 147  44  88 139  80 105 166 163  72  42  73 129 162  82  65\n",
      " 109  47 101  14 134 174 118  71 144   8 143  92 159  97 160  40  24 115\n",
      " 170 107 157 172  41 138  33  32 173 137 161  58  93 148 158 100 126 152\n",
      " 116 175  27  52   2 168  74  86 125  28  70  19 142  84  62 177 131  38\n",
      "  25 127  77 110  10  63  68  61  57  22  34   9 135   6 121 104  81  43\n",
      " 140  51  56  89 145 130  83  48   0  36  59 176  78 171  30  91  15  20\n",
      "  12   4 117  98 113  85 106  17  13  79 149  11  39 146  37 108   3  49\n",
      "  87 153  64  29 155 122  23  31  66  90  53 119 112 141   7   5 150 154\n",
      "  50   1 165  67  46  75  69 164  21 103  35  60 169  18 123 114  55  76\n",
      "  94  99  95  26 133 128 102  54  96  45 151 111 167 124 156  16]\n",
      "AIA 2\n",
      "ASM 2\n",
      "ATF 2\n",
      "BDI 2\n",
      "BFA 2\n",
      "BHS 2\n",
      "BWA 2\n",
      "CYM 2\n",
      "DJI 2\n",
      "DMA 2\n",
      "FJI 2\n",
      "GUY 2\n",
      "HND 2\n",
      "KIR 2\n",
      "LCA 2\n",
      "MDG 2\n",
      "MLI 2\n",
      "MMR 2\n",
      "MRT 2\n",
      "NAM 2\n",
      "NCL 2\n",
      "NIC 2\n",
      "NPL 2\n",
      "PLW 2\n",
      "PYF 2\n",
      "SDN 2\n",
      "SLE 2\n",
      "SMR 2\n",
      "UMI 2\n",
      "VGB 2\n",
      "ABW 4\n",
      "ATA 4\n",
      "COM 4\n",
      "GLP 4\n",
      "IMN 4\n",
      "KHM 4\n",
      "KNA 4\n",
      "LAO 4\n",
      "MWI 4\n",
      "MYT 4\n",
      "RWA 4\n",
      "SLV 4\n",
      "STP 4\n",
      "SYC 4\n",
      "TGO 4\n",
      "UGA 4\n",
      "ZMB 4\n",
      "BEN 6\n",
      "ETH 6\n",
      "GGY 6\n",
      "LIE 6\n",
      "SYR 6\n",
      "TMP 6\n",
      "BRB 8\n",
      "GAB 8\n",
      "GHA 8\n",
      "GTM 8\n",
      "MCO 8\n",
      "PRY 8\n",
      "UZB 8\n",
      "ZWE 8\n",
      "BHR 10\n",
      "CAF 10\n",
      "FRO 10\n",
      "MNE 10\n",
      "SUR 10\n",
      "TZA 10\n",
      "CIV 12\n",
      "JAM 12\n",
      "KEN 12\n",
      "AND 14\n",
      "LKA 14\n",
      "MUS 14\n",
      "ARM 16\n",
      "CUB 16\n",
      "JEY 16\n",
      "LBY 16\n",
      "VNM 16\n",
      "GNB 18\n",
      "PAN 18\n",
      "TJK 18\n",
      "BOL 20\n",
      "CMR 20\n",
      "MKD 20\n",
      "SEN 22\n",
      "ALB 24\n",
      "BGD 24\n",
      "MDV 24\n",
      "PRI 24\n",
      "BIH 26\n",
      "DOM 28\n",
      "IRQ 28\n",
      "PAK 28\n",
      "QAT 30\n",
      "KWT 32\n",
      "MAC 32\n",
      "AZE 34\n",
      "GIB 36\n",
      "MLT 36\n",
      "OMN 36\n",
      "CRI 38\n",
      "KAZ 38\n",
      "JOR 42\n",
      "GEO 44\n",
      "CPV 48\n",
      "BLR 52\n",
      "VEN 52\n",
      "ECU 54\n",
      "MYS 56\n",
      "HKG 58\n",
      "PER 58\n",
      "LBN 62\n",
      "EGY 64\n",
      "URY 64\n",
      "NGA 68\n",
      "IDN 70\n",
      "SGP 78\n",
      "TUN 78\n",
      "PHL 80\n",
      "SAU 96\n",
      "ARE 102\n",
      "CYP 102\n",
      "TWN 102\n",
      "LVA 110\n",
      "ISL 114\n",
      "SVN 114\n",
      "THA 118\n",
      "CHL 130\n",
      "SVK 130\n",
      "MOZ 134\n",
      "UKR 136\n",
      "COL 142\n",
      "NZL 148\n",
      "BGR 150\n",
      "ZAF 160\n",
      "LTU 162\n",
      "EST 166\n",
      "IRN 166\n",
      "MEX 170\n",
      "HRV 200\n",
      "SRB 202\n",
      "DZA 206\n",
      "GRC 256\n",
      "KOR 266\n",
      "IND 304\n",
      "CZE 342\n",
      "JPN 394\n",
      "ARG 428\n",
      "HUN 460\n",
      "TUR 496\n",
      "MAR 518\n",
      "LUX 574\n",
      "AGO 724\n",
      "AUS 852\n",
      "DNK 870\n",
      "FIN 894\n",
      "NULL 976\n",
      "ROU 1000\n",
      "NOR 1214\n",
      "RUS 1264\n",
      "ISR 1338\n",
      "POL 1838\n",
      "CHN 1998\n",
      "SWE 2048\n",
      "AUT 2526\n",
      "CN 2558\n",
      "CHE 3460\n",
      "USA 4194\n",
      "NLD 4208\n",
      "BRA 4448\n",
      "BEL 4684\n",
      "IRL 6750\n",
      "ITA 7532\n",
      "DEU 14574\n",
      "ESP 17136\n",
      "FRA 20830\n",
      "GBR 24258\n",
      "PRT 97180\n"
     ]
    }
   ],
   "source": [
    "chỉ_số_đã_sắp_xếp_theo_ds2 = np.lexsort([list_contry,contry_th])\n",
    "print(chỉ_số_đã_sắp_xếp_theo_ds2)\n",
    "for i in chỉ_số_đã_sắp_xếp_theo_ds2:\n",
    "    print(list_contry[i], contry_th[i])\n",
    "    ds1.append(list_contry[i])\n",
    "    ds2.append(contry_th[i])"
   ]
  },
  {
   "cell_type": "code",
   "execution_count": 168,
   "id": "d5024557",
   "metadata": {},
   "outputs": [
    {
     "name": "stdout",
     "output_type": "stream",
     "text": [
      "['AIA', 'ASM', 'ATF', 'BDI', 'BFA', 'BHS', 'BWA', 'CYM', 'DJI', 'DMA', 'FJI', 'GUY', 'HND', 'KIR', 'LCA', 'MDG', 'MLI', 'MMR', 'MRT', 'NAM', 'NCL', 'NIC', 'NPL', 'PLW', 'PYF', 'SDN', 'SLE', 'SMR', 'UMI', 'VGB', 'ABW', 'ATA', 'COM', 'GLP', 'IMN', 'KHM', 'KNA', 'LAO', 'MWI', 'MYT', 'RWA', 'SLV', 'STP', 'SYC', 'TGO', 'UGA', 'ZMB', 'BEN', 'ETH', 'GGY', 'LIE', 'SYR', 'TMP', 'BRB', 'GAB', 'GHA', 'GTM', 'MCO', 'PRY', 'UZB', 'ZWE', 'BHR', 'CAF', 'FRO', 'MNE', 'SUR', 'TZA', 'CIV', 'JAM', 'KEN', 'AND', 'LKA', 'MUS', 'ARM', 'CUB', 'JEY', 'LBY', 'VNM', 'GNB', 'PAN', 'TJK', 'BOL', 'CMR', 'MKD', 'SEN', 'ALB', 'BGD', 'MDV', 'PRI', 'BIH', 'DOM', 'IRQ', 'PAK', 'QAT', 'KWT', 'MAC', 'AZE', 'GIB', 'MLT', 'OMN', 'CRI', 'KAZ', 'JOR', 'GEO', 'CPV', 'BLR', 'VEN', 'ECU', 'MYS', 'HKG', 'PER', 'LBN', 'EGY', 'URY', 'NGA', 'IDN', 'SGP', 'TUN', 'PHL', 'SAU', 'ARE', 'CYP', 'TWN', 'LVA', 'ISL', 'SVN', 'THA', 'CHL', 'SVK', 'MOZ', 'UKR', 'COL', 'NZL', 'BGR', 'ZAF', 'LTU', 'EST', 'IRN', 'MEX', 'HRV', 'SRB', 'DZA', 'GRC', 'KOR', 'IND', 'CZE', 'JPN', 'ARG', 'HUN', 'TUR', 'MAR', 'LUX', 'AGO', 'AUS', 'DNK', 'FIN', 'NULL', 'ROU', 'NOR', 'RUS', 'ISR', 'POL', 'CHN', 'SWE', 'AUT', 'CN', 'CHE', 'USA', 'NLD', 'BRA', 'BEL', 'IRL', 'ITA', 'DEU', 'ESP', 'FRA', 'GBR', 'PRT'] [2, 2, 2, 2, 2, 2, 2, 2, 2, 2, 2, 2, 2, 2, 2, 2, 2, 2, 2, 2, 2, 2, 2, 2, 2, 2, 2, 2, 2, 2, 4, 4, 4, 4, 4, 4, 4, 4, 4, 4, 4, 4, 4, 4, 4, 4, 4, 6, 6, 6, 6, 6, 6, 8, 8, 8, 8, 8, 8, 8, 8, 10, 10, 10, 10, 10, 10, 12, 12, 12, 14, 14, 14, 16, 16, 16, 16, 16, 18, 18, 18, 20, 20, 20, 22, 24, 24, 24, 24, 26, 28, 28, 28, 30, 32, 32, 34, 36, 36, 36, 38, 38, 42, 44, 48, 52, 52, 54, 56, 58, 58, 62, 64, 64, 68, 70, 78, 78, 80, 96, 102, 102, 102, 110, 114, 114, 118, 130, 130, 134, 136, 142, 148, 150, 160, 162, 166, 166, 170, 200, 202, 206, 256, 266, 304, 342, 394, 428, 460, 496, 518, 574, 724, 852, 870, 894, 976, 1000, 1214, 1264, 1338, 1838, 1998, 2048, 2526, 2558, 3460, 4194, 4208, 4448, 4684, 6750, 7532, 14574, 17136, 20830, 24258, 97180]\n"
     ]
    }
   ],
   "source": [
    "print(ds1,ds2)"
   ]
  },
  {
   "cell_type": "code",
   "execution_count": 169,
   "id": "78c3fd58",
   "metadata": {},
   "outputs": [],
   "source": [
    "ds1_daochieu = ds1[::-1]\n",
    "ds2_daochieu = ds2[::-1]"
   ]
  },
  {
   "cell_type": "code",
   "execution_count": 170,
   "id": "0d90d550",
   "metadata": {},
   "outputs": [
    {
     "name": "stdout",
     "output_type": "stream",
     "text": [
      "['PRT', 'GBR', 'FRA', 'ESP', 'DEU', 'ITA', 'IRL', 'BEL', 'BRA', 'NLD', 'USA', 'CHE', 'CN', 'AUT', 'SWE', 'CHN', 'POL', 'ISR', 'RUS', 'NOR', 'ROU', 'NULL', 'FIN', 'DNK', 'AUS', 'AGO', 'LUX', 'MAR', 'TUR', 'HUN', 'ARG', 'JPN', 'CZE', 'IND', 'KOR', 'GRC', 'DZA', 'SRB', 'HRV', 'MEX', 'IRN', 'EST', 'LTU', 'ZAF', 'BGR', 'NZL', 'COL', 'UKR', 'MOZ', 'SVK', 'CHL', 'THA', 'SVN', 'ISL', 'LVA', 'TWN', 'CYP', 'ARE', 'SAU', 'PHL', 'TUN', 'SGP', 'IDN', 'NGA', 'URY', 'EGY', 'LBN', 'PER', 'HKG', 'MYS', 'ECU', 'VEN', 'BLR', 'CPV', 'GEO', 'JOR', 'KAZ', 'CRI', 'OMN', 'MLT', 'GIB', 'AZE', 'MAC', 'KWT', 'QAT', 'PAK', 'IRQ', 'DOM', 'BIH', 'PRI', 'MDV', 'BGD', 'ALB', 'SEN', 'MKD', 'CMR', 'BOL', 'TJK', 'PAN', 'GNB', 'VNM', 'LBY', 'JEY', 'CUB', 'ARM', 'MUS', 'LKA', 'AND', 'KEN', 'JAM', 'CIV', 'TZA', 'SUR', 'MNE', 'FRO', 'CAF', 'BHR', 'ZWE', 'UZB', 'PRY', 'MCO', 'GTM', 'GHA', 'GAB', 'BRB', 'TMP', 'SYR', 'LIE', 'GGY', 'ETH', 'BEN', 'ZMB', 'UGA', 'TGO', 'SYC', 'STP', 'SLV', 'RWA', 'MYT', 'MWI', 'LAO', 'KNA', 'KHM', 'IMN', 'GLP', 'COM', 'ATA', 'ABW', 'VGB', 'UMI', 'SMR', 'SLE', 'SDN', 'PYF', 'PLW', 'NPL', 'NIC', 'NCL', 'NAM', 'MRT', 'MMR', 'MLI', 'MDG', 'LCA', 'KIR', 'HND', 'GUY', 'FJI', 'DMA', 'DJI', 'CYM', 'BWA', 'BHS', 'BFA', 'BDI', 'ATF', 'ASM', 'AIA'] [97180, 24258, 20830, 17136, 14574, 7532, 6750, 4684, 4448, 4208, 4194, 3460, 2558, 2526, 2048, 1998, 1838, 1338, 1264, 1214, 1000, 976, 894, 870, 852, 724, 574, 518, 496, 460, 428, 394, 342, 304, 266, 256, 206, 202, 200, 170, 166, 166, 162, 160, 150, 148, 142, 136, 134, 130, 130, 118, 114, 114, 110, 102, 102, 102, 96, 80, 78, 78, 70, 68, 64, 64, 62, 58, 58, 56, 54, 52, 52, 48, 44, 42, 38, 38, 36, 36, 36, 34, 32, 32, 30, 28, 28, 28, 26, 24, 24, 24, 24, 22, 20, 20, 20, 18, 18, 18, 16, 16, 16, 16, 16, 14, 14, 14, 12, 12, 12, 10, 10, 10, 10, 10, 10, 8, 8, 8, 8, 8, 8, 8, 8, 6, 6, 6, 6, 6, 6, 4, 4, 4, 4, 4, 4, 4, 4, 4, 4, 4, 4, 4, 4, 4, 4, 4, 2, 2, 2, 2, 2, 2, 2, 2, 2, 2, 2, 2, 2, 2, 2, 2, 2, 2, 2, 2, 2, 2, 2, 2, 2, 2, 2, 2, 2, 2]\n"
     ]
    }
   ],
   "source": [
    "print(ds1_daochieu,ds2_daochieu)"
   ]
  },
  {
   "cell_type": "code",
   "execution_count": 172,
   "id": "1db5b65d",
   "metadata": {},
   "outputs": [
    {
     "name": "stdout",
     "output_type": "stream",
     "text": [
      "['PRT', 'GBR', 'FRA', 'ESP', 'DEU', 'ITA', 'IRL', 'BEL', 'BRA', 'NLD'] [97180, 24258, 20830, 17136, 14574, 7532, 6750, 4684, 4448, 4208]\n"
     ]
    }
   ],
   "source": [
    "ds1_10 = ds1_daochieu[:10]\n",
    "ds2_10 = ds2_daochieu[:10]\n",
    "print(ds1_10,ds2_10)"
   ]
  },
  {
   "cell_type": "code",
   "execution_count": 175,
   "id": "420abf7d",
   "metadata": {},
   "outputs": [
    {
     "data": {
      "image/png": "[encoded data removed]",
      "text/plain": [
       "<Figure size 432x288 with 1 Axes>"
      ]
     },
     "metadata": {
      "needs_background": "light"
     },
     "output_type": "display_data"
    }
   ],
   "source": [
    "ind4 = np.arange(1,11)\n",
    "\n",
    "bar = plt.bar(ind4, ds2_10, width = 0.75, color = \"b\")\n",
    "plt.xlabel(\"Contry\")\n",
    "plt.ylabel('Number')\n",
    "plt.xticks(ind4, ds1_10, fontsize = 9)\n",
    "plt.show()"
   ]
  },
  {
   "cell_type": "code",
   "execution_count": 179,
   "id": "cd6c979e",
   "metadata": {},
   "outputs": [],
   "source": [
    "reser = []\n",
    "assign = []"
   ]
  },
  {
   "cell_type": "code",
   "execution_count": 180,
   "id": "68c17f4a",
   "metadata": {},
   "outputs": [
    {
     "name": "stdout",
     "output_type": "stream",
     "text": [
      "H 1202\n",
      "F 5794\n",
      "P 24\n",
      "L 12\n",
      "E 13070\n",
      "C 1864\n",
      "A 171988\n",
      "D 38402\n",
      "B 2236\n",
      "G 4188\n"
     ]
    }
   ],
   "source": [
    "for i in range(len(reserved)):\n",
    "    reserv = reserved[i]\n",
    "    count = 0\n",
    "    for reserv_chon in reserved_room_col:\n",
    "        if reserv_chon == reserv: count +=1\n",
    "    print(reserv,count)\n",
    "    reser.append(count)"
   ]
  },
  {
   "cell_type": "code",
   "execution_count": 182,
   "id": "eb7dae6b",
   "metadata": {},
   "outputs": [
    {
     "data": {
      "image/png": "[encoded data removed]",
      "text/plain": [
       "<Figure size 432x288 with 1 Axes>"
      ]
     },
     "metadata": {
      "needs_background": "light"
     },
     "output_type": "display_data"
    }
   ],
   "source": [
    "ind5 = np.arange(1,11)\n",
    "\n",
    "bar = plt.bar(ind5, reser, width = 0.75, color = \"y\")\n",
    "plt.xlabel(\"Reserved room\")\n",
    "plt.ylabel('Number')\n",
    "plt.xticks(ind5, reserved, fontsize = 10)\n",
    "plt.show()"
   ]
  },
  {
   "cell_type": "code",
   "execution_count": 183,
   "id": "ff160ac9",
   "metadata": {},
   "outputs": [
    {
     "name": "stdout",
     "output_type": "stream",
     "text": [
      "I 726\n",
      "F 7502\n",
      "H 1424\n",
      "P 24\n",
      "L 2\n",
      "E 15612\n",
      "C 4750\n",
      "A 148106\n",
      "D 50644\n",
      "B 4326\n",
      "G 5106\n",
      "K 558\n"
     ]
    }
   ],
   "source": [
    "for i in range(len(assigned)):\n",
    "    assig = assigned[i]\n",
    "    count = 0\n",
    "    for assig_chon in assigned_room_col:\n",
    "        if assig_chon == assig: count +=1\n",
    "    print(assig,count)\n",
    "    assign.append(count)"
   ]
  },
  {
   "cell_type": "code",
   "execution_count": 185,
   "id": "0bd6660f",
   "metadata": {},
   "outputs": [
    {
     "data": {
      "image/png": "[encoded data removed]",
      "text/plain": [
       "<Figure size 432x288 with 1 Axes>"
      ]
     },
     "metadata": {
      "needs_background": "light"
     },
     "output_type": "display_data"
    }
   ],
   "source": [
    "ind6 = np.arange(1,13)\n",
    "\n",
    "bar1 = plt.bar(ind6, assign, width = 0.75, color = \"g\")\n",
    "plt.xlabel(\"Assigned room\")\n",
    "plt.ylabel('Number')\n",
    "plt.xticks(ind6, assigned, fontsize = 10)\n",
    "plt.show()"
   ]
  }
 ],
 "metadata": {
  "kernelspec": {
   "display_name": "Python 3 (ipykernel)",
   "language": "python",
   "name": "python3"
  },
  "language_info": {
   "codemirror_mode": {
    "name": "ipython",
    "version": 3
   },
   "file_extension": ".py",
   "mimetype": "text/x-python",
   "name": "python",
   "nbconvert_exporter": "python",
   "pygments_lexer": "ipython3",
   "version": "3.9.7"
  }
 },
 "nbformat": 4,
 "nbformat_minor": 5
}
