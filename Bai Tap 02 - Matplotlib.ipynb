{
 "cells": [
  {
   "cell_type": "markdown",
   "id": "b37a97f2",
   "metadata": {},
   "source": [
    "# Bài 1 - Vẽ phương trình y = ax + b"
   ]
  },
  {
   "cell_type": "code",
   "execution_count": 3,
   "id": "ab44b7b0",
   "metadata": {},
   "outputs": [],
   "source": [
    "import matplotlib.pyplot as plt"
   ]
  },
  {
   "cell_type": "code",
   "execution_count": 66,
   "id": "63237795",
   "metadata": {},
   "outputs": [
    {
     "data": {
      "image/png": "[encoded data removed]",
      "text/plain": [
       "<Figure size 432x288 with 1 Axes>"
      ]
     },
     "metadata": {
      "needs_background": "light"
     },
     "output_type": "display_data"
    }
   ],
   "source": [
    "def ve_pt_bac_1(a,b):\n",
    "    #Check a # 0\n",
    "    if a != 0:\n",
    "        fig = plt.figure()\n",
    "        ax = fig.add_subplot(1,1,1)\n",
    "        ax.set_axis_off\n",
    "        ax.plot([0,-b/a],[3,0])\n",
    "        ax.set_xlim(xmin=-5,xmax=5)\n",
    "        ax.set_ylim(ymin=-5,ymax=5)   \n",
    "    else: print(\"Please enter a # 0\")\n",
    "ve_pt_bac_1(1,5)"
   ]
  },
  {
   "cell_type": "code",
   "execution_count": null,
   "id": "e4cae916",
   "metadata": {},
   "outputs": [],
   "source": []
  }
 ],
 "metadata": {
  "kernelspec": {
   "display_name": "Python 3 (ipykernel)",
   "language": "python",
   "name": "python3"
  },
  "language_info": {
   "codemirror_mode": {
    "name": "ipython",
    "version": 3
   },
   "file_extension": ".py",
   "mimetype": "text/x-python",
   "name": "python",
   "nbconvert_exporter": "python",
   "pygments_lexer": "ipython3",
   "version": "3.9.7"
  }
 },
 "nbformat": 4,
 "nbformat_minor": 5
}
