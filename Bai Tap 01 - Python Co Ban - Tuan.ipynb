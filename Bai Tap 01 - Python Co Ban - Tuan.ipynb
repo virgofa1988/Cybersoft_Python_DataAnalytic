{
 "cells": [
  {
   "cell_type": "markdown",
   "id": "3f1251cb",
   "metadata": {},
   "source": [
    "# Bài 1 - Tính giá cổ phiếu"
   ]
  },
  {
   "cell_type": "markdown",
   "id": "d18e5978",
   "metadata": {},
   "source": [
    " -- Nhập dữ liệu giá cổ phiếu trong 8 ngày"
   ]
  },
  {
   "cell_type": "code",
   "execution_count": 9,
   "id": "9609c7f2",
   "metadata": {},
   "outputs": [],
   "source": [
    "gia_theo_ngay = [10.1, 9.5, 10.7, 10.8, 10.6, 10.0, 10.2, 9.5]"
   ]
  },
  {
   "cell_type": "markdown",
   "id": "217bfead",
   "metadata": {},
   "source": [
    "-- Tạo hàm tính toán mức độ tăng giá hoặc giảm giá"
   ]
  },
  {
   "cell_type": "code",
   "execution_count": 28,
   "id": "b84e5f7c",
   "metadata": {},
   "outputs": [],
   "source": [
    "def TinhGiaTangGiam(gia_ngay,index):\n",
    "    if(index == 0):\n",
    "        print(f'Giá Ngày Đầu: {gia_theo_ngay[index]}')\n",
    "        print('-----------')\n",
    "    elif (index != 0):\n",
    "        if((gia_ngay - gia_theo_ngay[index-1]) / gia_theo_ngay[index-1]) > 0.07:\n",
    "            print(f'Bán Giá Hôm Nay: {gia_ngay}')\n",
    "            print(\"Mức Tăng : \", abs((gia_ngay - gia_theo_ngay[index-1]) / gia_theo_ngay[index-1])*100,\"%\")\n",
    "            print(\"----------\")\n",
    "        elif ((gia_theo_ngay[index -1] - gia_ngay) / gia_theo_ngay[index-1]) > 0.06:\n",
    "            print(f'Mua Giá Hôm Nay: {gia_ngay}')\n",
    "            print(\"Mức giảm: \",abs((gia_theo_ngay[index-1] - gia_ngay) / gia_theo_ngay[index-1])*100,\"%\")\n",
    "            print('-----------')\n",
    "        else: \n",
    "            print(f'Không Mua Bán Gì Hôm Nay {gia_ngay}')\n",
    "            print(\"Mức chênh: \",abs((gia_ngay - gia_theo_ngay[index-1]) / gia_theo_ngay[index-1])*100,\"%\")\n",
    "            print('-----------')"
   ]
  },
  {
   "cell_type": "markdown",
   "id": "b36e665f",
   "metadata": {},
   "source": [
    "-- Chạy vòng lặp để kiểm tra giá từng ngày"
   ]
  },
  {
   "cell_type": "code",
   "execution_count": 29,
   "id": "e055d167",
   "metadata": {},
   "outputs": [
    {
     "name": "stdout",
     "output_type": "stream",
     "text": [
      "Giá Ngày Đầu: 10.1\n",
      "-----------\n",
      "Không Mua Bán Gì Hôm Nay 9.5\n",
      "Mức chênh:  5.940594059405938 %\n",
      "-----------\n",
      "Bán Giá Hôm Nay: 10.7\n",
      "Mức Tăng :  12.631578947368412 %\n",
      "----------\n",
      "Không Mua Bán Gì Hôm Nay 10.8\n",
      "Mức chênh:  0.9345794392523498 %\n",
      "-----------\n",
      "Không Mua Bán Gì Hôm Nay 10.6\n",
      "Mức chênh:  1.8518518518518614 %\n",
      "-----------\n",
      "Không Mua Bán Gì Hôm Nay 10.0\n",
      "Mức chênh:  5.660377358490563 %\n",
      "-----------\n",
      "Không Mua Bán Gì Hôm Nay 10.2\n",
      "Mức chênh:  1.9999999999999927 %\n",
      "-----------\n",
      "Mua Giá Hôm Nay: 9.5\n",
      "Mức giảm:  6.862745098039209 %\n",
      "-----------\n"
     ]
    }
   ],
   "source": [
    "for i,val in enumerate(gia_theo_ngay):\n",
    "    TinhGiaTangGiam(val,i)\n",
    "    "
   ]
  },
  {
   "cell_type": "markdown",
   "id": "53489a95",
   "metadata": {},
   "source": [
    "# Bài 2 - Tính BHXH và PIT"
   ]
  },
  {
   "cell_type": "markdown",
   "id": "3a6f024e",
   "metadata": {},
   "source": [
    "-- Công thức tính thuế : https://luatvietnam.vn/thue-phi/file-excel-tinh-thue-thu-nhap-ca-nhan-565-23632-article.html"
   ]
  },
  {
   "cell_type": "code",
   "execution_count": 44,
   "id": "049ea345",
   "metadata": {},
   "outputs": [],
   "source": [
    "def TinhBHXH_PIT(wage,bonus):\n",
    "    #Công thức tính BHXH\n",
    "    bhxh = wage * 0.08\n",
    "    #Công thức thu nhập tính thuế\n",
    "    thu_nhap_tinh_thue = (wage + bonus) - bhxh\n",
    "    pit = 0\n",
    "    if(thu_nhap_tinh_thue < 5000000):\n",
    "        pit = thu_nhap_tinh_thue * 0.05\n",
    "    elif(5000000<= thu_nhap_tinh_thue < 10000000):\n",
    "        pit = thu_nhap_tinh_thue * 0.1 - 250000\n",
    "    elif (10000000<= thu_nhap_tinh_thue < 18000000):\n",
    "        pit = thu_nhap_tinh_thue * 0.15 - 750000\n",
    "    elif (18000000<= thu_nhap_tinh_thue < 32000000):\n",
    "        pit = thu_nhap_tinh_thue * 0.2 - 1650000\n",
    "    elif (32000000<= thu_nhap_tinh_thue < 52000000):\n",
    "        pit = thu_nhap_tinh_thue * 0.25 - 3250000\n",
    "    elif (52000000<= thu_nhap_tinh_thue < 80000000):\n",
    "        pit = thu_nhap_tinh_thue * 0.3 - 5850000\n",
    "    else :pit = thu_nhap_tinh_thue * 0.35 - 9850000    \n",
    "    return {\"Bảo hiểm xã hội\":bhxh, \"Thuế thu nhập cá nhân\":pit}, "
   ]
  },
  {
   "cell_type": "code",
   "execution_count": 43,
   "id": "b41dba35",
   "metadata": {
    "scrolled": true
   },
   "outputs": [
    {
     "data": {
      "text/plain": [
       "({'Bảo hiểm xã hội': 800000.0, 'Thuế thụ nhập cá nhân': 1380000.0},)"
      ]
     },
     "execution_count": 43,
     "metadata": {},
     "output_type": "execute_result"
    }
   ],
   "source": [
    "TinhBHXH_PIT(10000000,5000000)"
   ]
  },
  {
   "cell_type": "code",
   "execution_count": null,
   "id": "e265ad8e",
   "metadata": {},
   "outputs": [],
   "source": []
  }
 ],
 "metadata": {
  "kernelspec": {
   "display_name": "Python 3 (ipykernel)",
   "language": "python",
   "name": "python3"
  },
  "language_info": {
   "codemirror_mode": {
    "name": "ipython",
    "version": 3
   },
   "file_extension": ".py",
   "mimetype": "text/x-python",
   "name": "python",
   "nbconvert_exporter": "python",
   "pygments_lexer": "ipython3",
   "version": "3.9.7"
  }
 },
 "nbformat": 4,
 "nbformat_minor": 5
}
