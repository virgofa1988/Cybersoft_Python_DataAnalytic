{
 "cells": [
  {
   "cell_type": "markdown",
   "id": "ef0d184e",
   "metadata": {},
   "source": [
    "# Bài 1 - Tính giá cổ phiếu"
   ]
  },
  {
   "cell_type": "markdown",
   "id": "ab36396b",
   "metadata": {},
   "source": [
    " -- Nhập dữ liệu giá cổ phiếu trong 8 ngày"
   ]
  },
  {
   "cell_type": "code",
   "execution_count": 9,
   "id": "fbe7ac54",
   "metadata": {},
   "outputs": [],
   "source": [
    "gia_theo_ngay = [10.1, 9.5, 10.7, 10.8, 10.6, 10.0, 10.2, 9.5]"
   ]
  },
  {
   "cell_type": "markdown",
   "id": "de60d199",
   "metadata": {},
   "source": [
    "-- Tạo hàm tính toán mức độ tăng giá hoặc giảm giá"
   ]
  },
  {
   "cell_type": "code",
   "execution_count": 28,
   "id": "1e20c68c",
   "metadata": {},
   "outputs": [],
   "source": [
    "def TinhGiaTangGiam(gia_ngay,index):\n",
    "    if(index == 0):\n",
    "        print(f'Giá Ngày Đầu: {gia_theo_ngay[index]}')\n",
    "        print('-----------')\n",
    "    elif (index != 0):\n",
    "        if((gia_ngay - gia_theo_ngay[index-1]) / gia_theo_ngay[index-1]) > 0.07:\n",
    "            print(f'Bán Giá Hôm Nay: {gia_ngay}')\n",
    "            print(\"Mức Tăng : \", abs((gia_ngay - gia_theo_ngay[index-1]) / gia_theo_ngay[index-1])*100,\"%\")\n",
    "            print(\"----------\")\n",
    "        elif ((gia_theo_ngay[index -1] - gia_ngay) / gia_theo_ngay[index-1]) > 0.06:\n",
    "            print(f'Mua Giá Hôm Nay: {gia_ngay}')\n",
    "            print(\"Mức giảm: \",abs((gia_theo_ngay[index-1] - gia_ngay) / gia_theo_ngay[index-1])*100,\"%\")\n",
    "            print('-----------')\n",
    "        else: \n",
    "            print(f'Không Mua Bán Gì Hôm Nay {gia_ngay}')\n",
    "            print(\"Mức chênh: \",abs((gia_ngay - gia_theo_ngay[index-1]) / gia_theo_ngay[index-1])*100,\"%\")\n",
    "            print('-----------')"
   ]
  },
  {
   "cell_type": "markdown",
   "id": "17b2c8e1",
   "metadata": {},
   "source": [
    "-- Chạy vòng lặp để kiểm tra giá từng ngày"
   ]
  },
  {
   "cell_type": "code",
   "execution_count": 29,
   "id": "beefe2da",
   "metadata": {},
   "outputs": [
    {
     "name": "stdout",
     "output_type": "stream",
     "text": [
      "Giá Ngày Đầu: 10.1\n",
      "-----------\n",
      "Không Mua Bán Gì Hôm Nay 9.5\n",
      "Mức chênh:  5.940594059405938 %\n",
      "-----------\n",
      "Bán Giá Hôm Nay: 10.7\n",
      "Mức Tăng :  12.631578947368412 %\n",
      "----------\n",
      "Không Mua Bán Gì Hôm Nay 10.8\n",
      "Mức chênh:  0.9345794392523498 %\n",
      "-----------\n",
      "Không Mua Bán Gì Hôm Nay 10.6\n",
      "Mức chênh:  1.8518518518518614 %\n",
      "-----------\n",
      "Không Mua Bán Gì Hôm Nay 10.0\n",
      "Mức chênh:  5.660377358490563 %\n",
      "-----------\n",
      "Không Mua Bán Gì Hôm Nay 10.2\n",
      "Mức chênh:  1.9999999999999927 %\n",
      "-----------\n",
      "Mua Giá Hôm Nay: 9.5\n",
      "Mức giảm:  6.862745098039209 %\n",
      "-----------\n"
     ]
    }
   ],
   "source": [
    "for i,val in enumerate(gia_theo_ngay):\n",
    "    TinhGiaTangGiam(val,i)\n",
    "    "
   ]
  },
  {
   "cell_type": "markdown",
   "id": "1276a46d",
   "metadata": {},
   "source": [
    "# Bài 2 - Tính BHXH và PIT"
   ]
  },
  {
   "cell_type": "markdown",
   "id": "aac41ff3",
   "metadata": {},
   "source": [
    "-- Công thức tính thuế : https://luatvietnam.vn/thue-phi/file-excel-tinh-thue-thu-nhap-ca-nhan-565-23632-article.html"
   ]
  },
  {
   "cell_type": "code",
   "execution_count": 44,
   "id": "07a6dd65",
   "metadata": {},
   "outputs": [],
   "source": [
    "def TinhBHXH_PIT(wage,bonus):\n",
    "    #Công thức tính BHXH\n",
    "    bhxh = wage * 0.08\n",
    "    #Công thức thu nhập tính thuế\n",
    "    thu_nhap_tinh_thue = (wage + bonus) - bhxh\n",
    "    pit = 0\n",
    "    if(thu_nhap_tinh_thue < 5000000):\n",
    "        pit = thu_nhap_tinh_thue * 0.05\n",
    "    elif(5000000<= thu_nhap_tinh_thue < 10000000):\n",
    "        pit = thu_nhap_tinh_thue * 0.1 - 250000\n",
    "    elif (10000000<= thu_nhap_tinh_thue < 18000000):\n",
    "        pit = thu_nhap_tinh_thue * 0.15 - 750000\n",
    "    elif (18000000<= thu_nhap_tinh_thue < 32000000):\n",
    "        pit = thu_nhap_tinh_thue * 0.2 - 1650000\n",
    "    elif (32000000<= thu_nhap_tinh_thue < 52000000):\n",
    "        pit = thu_nhap_tinh_thue * 0.25 - 3250000\n",
    "    elif (52000000<= thu_nhap_tinh_thue < 80000000):\n",
    "        pit = thu_nhap_tinh_thue * 0.3 - 5850000\n",
    "    else :pit = thu_nhap_tinh_thue * 0.35 - 9850000    \n",
    "    return {\"Bảo hiểm xã hội\":bhxh, \"Thuế thu nhập cá nhân\":pit}, "
   ]
  },
  {
   "cell_type": "code",
   "execution_count": 43,
   "id": "7e295635",
   "metadata": {
    "scrolled": true
   },
   "outputs": [
    {
     "data": {
      "text/plain": [
       "({'Bảo hiểm xã hội': 800000.0, 'Thuế thụ nhập cá nhân': 1380000.0},)"
      ]
     },
     "execution_count": 43,
     "metadata": {},
     "output_type": "execute_result"
    }
   ],
   "source": [
    "TinhBHXH_PIT(10000000,5000000)"
   ]
  },
  {
   "cell_type": "markdown",
   "id": "357b65be",
   "metadata": {},
   "source": [
    "# Bài Tập Tính Tần Suất, Tần Số, Mean và Median"
   ]
  },
  {
   "cell_type": "code",
   "execution_count": 61,
   "id": "615acfef",
   "metadata": {},
   "outputs": [],
   "source": [
    "import csv\n",
    "csv_file_1 = \"./files/example_bai_1.2.csv\""
   ]
  },
  {
   "cell_type": "code",
   "execution_count": 62,
   "id": "dad05655",
   "metadata": {},
   "outputs": [],
   "source": [
    "# Tách các cột thành từng list riêng\n",
    "list_rating = []\n",
    "list_city = []\n",
    "list_gender =  []\n",
    "list_amount = []\n",
    "\n",
    "with open(csv_file_1, 'r', encoding=\"utf-8\") as ds:\n",
    "    data_reader = csv.reader(ds)\n",
    "    for row in data_reader:\n",
    "        list_city.append(row[0])\n",
    "        list_gender.append(row[1])\n",
    "        list_amount.append(row[2])\n",
    "        list_rating.append(row[3])\n",
    "        \n",
    "# Loại bỏ header       \n",
    "del(list_rating[0])\n",
    "del(list_city[0])\n",
    "del(list_gender[0])\n",
    "del(list_amount[0])"
   ]
  },
  {
   "cell_type": "markdown",
   "id": "d4192bdc",
   "metadata": {},
   "source": [
    "# Tần suất khác mua hàng các thành phố"
   ]
  },
  {
   "cell_type": "code",
   "execution_count": 63,
   "id": "490b15e5",
   "metadata": {},
   "outputs": [
    {
     "name": "stdout",
     "output_type": "stream",
     "text": [
      "274 490 236\n",
      "{'HN': 27.4} {'HCM': 49.0} {'DN': 23.6}\n"
     ]
    }
   ],
   "source": [
    "HN = 0\n",
    "HCM = 0\n",
    "DN = 0\n",
    "for index, val in enumerate(list_city):\n",
    "    if(val == \"TP HCM\"):\n",
    "        HCM += 1\n",
    "    elif (val == \"Hà Nội\"):\n",
    "        HN += 1\n",
    "    else : DN += 1\n",
    "print(HN,HCM,DN)\n",
    "print({\"HN\":round(HN/(HN+HCM+DN)*100,2)},{\"HCM\":round(HCM/(HN+HCM+DN)*100,2)},{\"DN\":round(DN/(HN+HCM+DN)*100,2)})"
   ]
  },
  {
   "cell_type": "markdown",
   "id": "6246e57d",
   "metadata": {},
   "source": [
    "# Tần Suất Khách Nam và Nữ"
   ]
  },
  {
   "cell_type": "code",
   "execution_count": 50,
   "id": "879e4ddf",
   "metadata": {},
   "outputs": [
    {
     "name": "stdout",
     "output_type": "stream",
     "text": [
      "Female:501, Male:499\n",
      "{'Female': 50.1, 'Male': 49.9}\n"
     ]
    }
   ],
   "source": [
    "Male = 0\n",
    "Female = 0\n",
    "for index, val in enumerate(list_gender):\n",
    "    if(val == 'Nữ'):\n",
    "        Female += 1\n",
    "    elif(val == 'Nam'):\n",
    "        Male += 1\n",
    "print(f'Female:{Female}, Male:{Male}')\n",
    "print({\"Female\":round(Female/(Female+Male)*100,2),\"Male\":round(Male/(Female+Male)*100,2)})"
   ]
  },
  {
   "cell_type": "markdown",
   "id": "e069f290",
   "metadata": {},
   "source": [
    "# Median"
   ]
  },
  {
   "cell_type": "code",
   "execution_count": 59,
   "id": "4f871115",
   "metadata": {},
   "outputs": [],
   "source": [
    "list_amount_sorted = []\n",
    "for val in list_amount:\n",
    "    list_amount_sorted.append(float(val))\n",
    "list_amount_sorted.sort()\n"
   ]
  },
  {
   "cell_type": "code",
   "execution_count": 52,
   "id": "4c997631",
   "metadata": {},
   "outputs": [
    {
     "data": {
      "text/plain": [
       "1000"
      ]
     },
     "execution_count": 52,
     "metadata": {},
     "output_type": "execute_result"
    }
   ],
   "source": [
    "int(len(list_amount_sorted))"
   ]
  },
  {
   "cell_type": "markdown",
   "id": "4c940ae9",
   "metadata": {},
   "source": [
    "-- Vì đồ dài list là 1000 nên median sẽ lấy trung bình của giá trị thứ 499 và 500"
   ]
  },
  {
   "cell_type": "code",
   "execution_count": 53,
   "id": "d51ffd85",
   "metadata": {},
   "outputs": [
    {
     "data": {
      "text/plain": [
       "253.848"
      ]
     },
     "execution_count": 53,
     "metadata": {},
     "output_type": "execute_result"
    }
   ],
   "source": [
    "median_amount = (list_amount_sorted[int(len(list_amount_sorted)/2)] + list_amount_sorted[int(len(list_amount_sorted)/2) - 1])/2\n",
    "median_amount"
   ]
  },
  {
   "cell_type": "markdown",
   "id": "6344bc94",
   "metadata": {},
   "source": [
    "-- Median của Rating\n"
   ]
  },
  {
   "cell_type": "code",
   "execution_count": 60,
   "id": "9f8624b0",
   "metadata": {},
   "outputs": [],
   "source": [
    "list_rating_sorted = []\n",
    "for val in list_rating:\n",
    "    list_rating_sorted.append(float(val))\n",
    "list_rating_sorted.sort()\n"
   ]
  },
  {
   "cell_type": "code",
   "execution_count": 55,
   "id": "8e07058d",
   "metadata": {},
   "outputs": [
    {
     "data": {
      "text/plain": [
       "1000"
      ]
     },
     "execution_count": 55,
     "metadata": {},
     "output_type": "execute_result"
    }
   ],
   "source": [
    "int(len(list_rating_sorted))"
   ]
  },
  {
   "cell_type": "code",
   "execution_count": 56,
   "id": "13b0df17",
   "metadata": {},
   "outputs": [
    {
     "data": {
      "text/plain": [
       "7.0"
      ]
     },
     "execution_count": 56,
     "metadata": {},
     "output_type": "execute_result"
    }
   ],
   "source": [
    "median_rating = (list_rating_sorted[int(len(list_rating_sorted)/2)] + list_rating_sorted[int(len(list_rating_sorted)/2) - 1])/2\n",
    "median_rating"
   ]
  },
  {
   "cell_type": "markdown",
   "id": "7d1c7a88",
   "metadata": {},
   "source": [
    "# MEAN"
   ]
  },
  {
   "cell_type": "markdown",
   "id": "09847c6b",
   "metadata": {},
   "source": [
    "-- Rating"
   ]
  },
  {
   "cell_type": "code",
   "execution_count": 57,
   "id": "9a8383ba",
   "metadata": {},
   "outputs": [
    {
     "data": {
      "text/plain": [
       "6.972700000000003"
      ]
     },
     "execution_count": 57,
     "metadata": {},
     "output_type": "execute_result"
    }
   ],
   "source": [
    "sum_rating = 0\n",
    "avg_rating = 0\n",
    "for index, val in enumerate(list_rating):\n",
    "    sum_rating += float(val)\n",
    "    avg_rating = sum_rating / len(list_rating)\n",
    "avg_rating"
   ]
  },
  {
   "cell_type": "markdown",
   "id": "6018ac87",
   "metadata": {},
   "source": [
    "-- Tổng Đơn"
   ]
  },
  {
   "cell_type": "code",
   "execution_count": 58,
   "id": "02e1c1ec",
   "metadata": {},
   "outputs": [
    {
     "data": {
      "text/plain": [
       "322.96674900000005"
      ]
     },
     "execution_count": 58,
     "metadata": {},
     "output_type": "execute_result"
    }
   ],
   "source": [
    "sum_amount = 0\n",
    "avg_amount = 0\n",
    "for index, val in enumerate(list_amount):\n",
    "    sum_amount += float(val)\n",
    "    avg_amount = sum_amount / len(list_amount)\n",
    "avg_amount"
   ]
  },
  {
   "cell_type": "code",
   "execution_count": null,
   "id": "9e994765",
   "metadata": {},
   "outputs": [],
   "source": []
  }
 ],
 "metadata": {
  "kernelspec": {
   "display_name": "Python 3 (ipykernel)",
   "language": "python",
   "name": "python3"
  },
  "language_info": {
   "codemirror_mode": {
    "name": "ipython",
    "version": 3
   },
   "file_extension": ".py",
   "mimetype": "text/x-python",
   "name": "python",
   "nbconvert_exporter": "python",
   "pygments_lexer": "ipython3",
   "version": "3.9.7"
  }
 },
 "nbformat": 4,
 "nbformat_minor": 5
}
