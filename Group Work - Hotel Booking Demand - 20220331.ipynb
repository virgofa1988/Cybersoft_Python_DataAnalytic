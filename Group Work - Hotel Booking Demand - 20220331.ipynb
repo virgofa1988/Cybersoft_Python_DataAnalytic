{
 "cells": [
  {
   "cell_type": "code",
   "execution_count": 1,
   "id": "06a4abba",
   "metadata": {},
   "outputs": [],
   "source": [
    "import matplotlib\n",
    "from matplotlib import pyplot as plt\n",
    "import numpy as np\n",
    "import csv"
   ]
  },
  {
   "cell_type": "code",
   "execution_count": 48,
   "id": "bba0ff1f",
   "metadata": {},
   "outputs": [
    {
     "data": {
      "text/plain": [
       "array([['hotel', 'is_canceled', 'lead_time', ...,\n",
       "        'total_of_special_requests', 'reservation_status',\n",
       "        'reservation_status_date'],\n",
       "       ['Resort Hotel', '0', '342', ..., '0', 'Check-Out', '2015-07-01'],\n",
       "       ['Resort Hotel', '0', '737', ..., '0', 'Check-Out', '2015-07-01'],\n",
       "       ...,\n",
       "       ['City Hotel', '0', '34', ..., '4', 'Check-Out', '2017-09-07'],\n",
       "       ['City Hotel', '0', '109', ..., '0', 'Check-Out', '2017-09-07'],\n",
       "       ['City Hotel', '0', '205', ..., '2', 'Check-Out', '2017-09-07']],\n",
       "      dtype='<U30')"
      ]
     },
     "execution_count": 48,
     "metadata": {},
     "output_type": "execute_result"
    }
   ],
   "source": [
    "# Load data\n",
    "path = './files/hotel_booking_demand/hotel_bookings.csv'\n",
    "data_csv = []\n",
    "with open(path, mode = \"r\", encoding = 'utf-8') as f:\n",
    "    data_reader_csv = csv.reader(f)\n",
    "    for index, row in enumerate(data_reader_csv):\n",
    "        data_csv.append(row)\n",
    "df_csv = np.array(data_csv)\n",
    "df_csv"
   ]
  },
  {
   "cell_type": "code",
   "execution_count": 71,
   "id": "79c51382",
   "metadata": {},
   "outputs": [
    {
     "data": {
      "text/plain": [
       "array(['hotel', 'is_canceled', 'lead_time', 'arrival_date_year',\n",
       "       'arrival_date_month', 'arrival_date_week_number',\n",
       "       'arrival_date_day_of_month', 'stays_in_weekend_nights',\n",
       "       'stays_in_week_nights', 'adults', 'children', 'babies', 'meal',\n",
       "       'country', 'market_segment', 'distribution_channel',\n",
       "       'is_repeated_guest', 'previous_cancellations',\n",
       "       'previous_bookings_not_canceled', 'reserved_room_type',\n",
       "       'assigned_room_type', 'booking_changes', 'deposit_type', 'agent',\n",
       "       'company', 'days_in_waiting_list', 'customer_type', 'adr',\n",
       "       'required_car_parking_spaces', 'total_of_special_requests',\n",
       "       'reservation_status', 'reservation_status_date'], dtype='<U30')"
      ]
     },
     "execution_count": 71,
     "metadata": {},
     "output_type": "execute_result"
    }
   ],
   "source": [
    "# Mẫu của 1 row(observation)\n",
    "df_csv[0]"
   ]
  },
  {
   "cell_type": "code",
   "execution_count": 72,
   "id": "5c47338b",
   "metadata": {},
   "outputs": [
    {
     "data": {
      "text/plain": [
       "(119391, 32)"
      ]
     },
     "execution_count": 72,
     "metadata": {},
     "output_type": "execute_result"
    }
   ],
   "source": [
    "# Tổng số dòng\n",
    "df_csv.shape"
   ]
  },
  {
   "cell_type": "code",
   "execution_count": 73,
   "id": "debf9404",
   "metadata": {},
   "outputs": [
    {
     "data": {
      "text/plain": [
       "3820512"
      ]
     },
     "execution_count": 73,
     "metadata": {},
     "output_type": "execute_result"
    }
   ],
   "source": [
    "df_csv.size"
   ]
  },
  {
   "cell_type": "code",
   "execution_count": 74,
   "id": "11740ff9",
   "metadata": {
    "scrolled": true
   },
   "outputs": [
    {
     "data": {
      "text/plain": [
       "dtype('<U30')"
      ]
     },
     "execution_count": 74,
     "metadata": {},
     "output_type": "execute_result"
    }
   ],
   "source": [
    "df_csv.dtype"
   ]
  },
  {
   "cell_type": "code",
   "execution_count": 75,
   "id": "16e508ad",
   "metadata": {},
   "outputs": [
    {
     "data": {
      "text/plain": [
       "2"
      ]
     },
     "execution_count": 75,
     "metadata": {},
     "output_type": "execute_result"
    }
   ],
   "source": [
    "df_csv.ndim"
   ]
  },
  {
   "cell_type": "code",
   "execution_count": 168,
   "id": "9eef90e7",
   "metadata": {},
   "outputs": [],
   "source": [
    "class color:\n",
    "   PURPLE = '\\033[95m'\n",
    "   CYAN = '\\033[96m'\n",
    "   DARKCYAN = '\\033[36m'\n",
    "   BLUE = '\\033[94m'\n",
    "   GREEN = '\\033[92m'\n",
    "   YELLOW = '\\033[93m'\n",
    "   RED = '\\033[91m'\n",
    "   BOLD = '\\033[1m'\n",
    "   UNDERLINE = '\\033[4m'\n",
    "   END = '\\033[0m'"
   ]
  },
  {
   "cell_type": "code",
   "execution_count": 159,
   "id": "d41d2c34",
   "metadata": {},
   "outputs": [],
   "source": [
    "# 1- Tìm hiểu có bao nhiêu loại hotel - dữ liệu trải dài trong bao nhiêu năm\n",
    "hotel_list = []\n",
    "year_list = []\n",
    "year_index = np.where(df_csv[0] == 'arrival_date_year')[0][0]\n",
    "hotel_index = np.where(df_csv[0] == 'hotel')[0][0]\n",
    "for index,row in enumerate(df_csv):\n",
    "    if index == 0:continue\n",
    "    hotel_list.append(row[hotel_index])\n",
    "    year_list.append(row[year_index])\n",
    "hotel_type = list(set(hotel_list))\n",
    "years = list(set(year_list))"
   ]
  },
  {
   "cell_type": "code",
   "execution_count": 249,
   "id": "c1f11066",
   "metadata": {},
   "outputs": [
    {
     "data": {
      "text/plain": [
       "['2015', '2016', '2017']"
      ]
     },
     "execution_count": 249,
     "metadata": {},
     "output_type": "execute_result"
    }
   ],
   "source": [
    "years = list(np.sort(years))\n",
    "years"
   ]
  },
  {
   "cell_type": "code",
   "execution_count": 250,
   "id": "e04ed159",
   "metadata": {},
   "outputs": [
    {
     "data": {
      "text/plain": [
       "['Resort Hotel', 'City Hotel']"
      ]
     },
     "execution_count": 250,
     "metadata": {},
     "output_type": "execute_result"
    }
   ],
   "source": [
    "hotel_type"
   ]
  },
  {
   "cell_type": "code",
   "execution_count": 251,
   "id": "86887fb7",
   "metadata": {},
   "outputs": [],
   "source": [
    "# 2- Tính tổng doanh thu, doanh thu từng loại hotel, doanh thu theo năm\n",
    "# revenue = (stays_in_weekend_nights + stays_in_week_nights) * adr \n",
    "revenue = []\n",
    "stay_night = []\n",
    "\n",
    "#Lấy Index các attribute\n",
    "week_night_index = np.where(df_csv[0] == 'stays_in_weekend_nights')[0][0]\n",
    "weekend_night_index = np.where(df_csv[0] == 'stays_in_week_nights')[0][0]\n",
    "ard_index = np.where(df_csv[0] == 'adr')[0][0]\n",
    "\n",
    "for index,row in enumerate(df_csv):\n",
    "    if index == 0:continue\n",
    "    nights = int(row[week_night_index]) + int(row[weekend_night_index])\n",
    "    revenue.append(float(row[ard_index]) * nights)\n",
    "    stay_night.append(nights)\n",
    "\n",
    "    "
   ]
  },
  {
   "cell_type": "code",
   "execution_count": 252,
   "id": "2822cfa7",
   "metadata": {
    "scrolled": true
   },
   "outputs": [
    {
     "name": "stdout",
     "output_type": "stream",
     "text": [
      "Doanh thu tổng các năm: $42,723,497.53\n"
     ]
    }
   ],
   "source": [
    "print(f'Doanh thu tổng các năm: ${np.sum(revenue):,}')"
   ]
  },
  {
   "cell_type": "code",
   "execution_count": 253,
   "id": "83adae91",
   "metadata": {},
   "outputs": [],
   "source": [
    "revenue_by_year ={}\n",
    "for year in years:\n",
    "    revenue_by_year[year] = []\n",
    "    for index,row in enumerate(df_csv):\n",
    "        if index == 0:continue\n",
    "        if year == row[year_index]:\n",
    "            nights = int(row[week_night_index]) + int(row[weekend_night_index])\n",
    "            revenue_by_year[year].append(float(row[ard_index]) * nights)"
   ]
  },
  {
   "cell_type": "code",
   "execution_count": 254,
   "id": "9b2a4761",
   "metadata": {
    "scrolled": true
   },
   "outputs": [
    {
     "name": "stdout",
     "output_type": "stream",
     "text": [
      "Doanh thu của \u001b[1m2015\u001b[0m là \u001b[1m$6,818,116.56\u001b[0m\n",
      "Doanh thu của \u001b[1m2016\u001b[0m là \u001b[1m$18,870,601.20\u001b[0m\n",
      "Doanh thu của \u001b[1m2017\u001b[0m là \u001b[1m$17,034,779.77\u001b[0m\n"
     ]
    }
   ],
   "source": [
    "for year in revenue_by_year:\n",
    "    print(f'Doanh thu của {color.BOLD}{year}{color.END} là {color.BOLD}${np.sum(revenue_by_year[year]):,.2f}{color.END}')   "
   ]
  },
  {
   "cell_type": "code",
   "execution_count": 258,
   "id": "57438349",
   "metadata": {},
   "outputs": [
    {
     "data": {
      "image/png": "[encoded data removed]",
      "text/plain": [
       "<Figure size 576x288 with 1 Axes>"
      ]
     },
     "metadata": {
      "needs_background": "light"
     },
     "output_type": "display_data"
    }
   ],
   "source": [
    "# Vẽ biểu đồ thể hiện doanh số qua các năm\n",
    "from matplotlib.ticker import FuncFormatter\n",
    "def millions(x, pos):\n",
    "    'The two args are the value and tick position'\n",
    "    return '$%1.1fM' % (x * 1e-6)\n",
    "formatter = FuncFormatter(millions)\n",
    "\n",
    "fig, ax = plt.subplots(figsize = (8,4))\n",
    "ax.bar(list(revenue_by_year.keys()),[np.sum(revenue_by_year[year]) for year in revenue_by_year],color = 'blue',alpha= 0.7, edgecolor = \"k\", width = 0.5)\n",
    "ax.yaxis.set_major_formatter(formatter)\n",
    "ax.set_ylabel('Revenue in USD',fontsize = 14)\n",
    "\n",
    "#Hiện giá trị lên từng cột\n",
    "ax.bar_label(container = ax.containers[0])\n",
    "\n",
    "plt.title('Doanh số tổng qua từng năm', fontsize = 14)\n",
    "plt.show()"
   ]
  },
  {
   "cell_type": "code",
   "execution_count": 259,
   "id": "ad15c892",
   "metadata": {},
   "outputs": [],
   "source": [
    "revenue_by_hotel ={}\n",
    "for hotel in hotel_type:\n",
    "    revenue_by_hotel[hotel] = []\n",
    "    for index,row in enumerate(df_csv):\n",
    "        if index == 0:continue\n",
    "        if hotel == row[hotel_index]:\n",
    "            nights = int(row[week_night_index]) + int(row[weekend_night_index])\n",
    "            revenue_by_hotel[hotel].append(float(row[ard_index]) * nights)"
   ]
  },
  {
   "cell_type": "code",
   "execution_count": 260,
   "id": "6be1a9e6",
   "metadata": {},
   "outputs": [
    {
     "name": "stdout",
     "output_type": "stream",
     "text": [
      "Doanh thu của \u001b[1mResort Hotel\u001b[0m là $\u001b[1m\u001b[91m17,444,027.57\u001b[0m\n",
      "Doanh thu của \u001b[1mCity Hotel\u001b[0m là $\u001b[1m\u001b[91m25,279,469.96\u001b[0m\n"
     ]
    }
   ],
   "source": [
    "for hotel in revenue_by_hotel:   \n",
    "    print(f'Doanh thu của {color.BOLD}{ hotel}{color.END} là ${color.BOLD}{color.RED}{np.sum(revenue_by_hotel[hotel]):,.2f}{color.END}')"
   ]
  },
  {
   "cell_type": "code",
   "execution_count": 261,
   "id": "9d80100d",
   "metadata": {
    "scrolled": true
   },
   "outputs": [
    {
     "data": {
      "image/png": "[encoded data removed]",
      "text/plain": [
       "<Figure size 576x288 with 1 Axes>"
      ]
     },
     "metadata": {
      "needs_background": "light"
     },
     "output_type": "display_data"
    }
   ],
   "source": [
    "# Vẽ biểu đồ cột thể hiện doanh thu của 2 loại hotel\n",
    "\n",
    "\n",
    "fig, ax = plt.subplots(figsize = (8,4))\n",
    "ax.bar(list(revenue_by_hotel.keys()),[np.sum(revenue_by_hotel[hotel]) for hotel in revenue_by_hotel],color = 'blue',alpha= 0.7, edgecolor = \"k\", width = 0.5)\n",
    "ax.yaxis.set_major_formatter(formatter)\n",
    "ax.set_ylabel('Revenue in USD',fontsize = 14)\n",
    "\n",
    "#Hiện giá trị lên từng cột\n",
    "ax.bar_label(container = ax.containers[0])\n",
    "\n",
    "plt.title('Doanh số tổng của hai hotel', fontsize = 14)\n",
    "plt.show()"
   ]
  },
  {
   "cell_type": "code",
   "execution_count": null,
   "id": "05e7781d",
   "metadata": {},
   "outputs": [],
   "source": []
  }
 ],
 "metadata": {
  "kernelspec": {
   "display_name": "Python 3 (ipykernel)",
   "language": "python",
   "name": "python3"
  },
  "language_info": {
   "codemirror_mode": {
    "name": "ipython",
    "version": 3
   },
   "file_extension": ".py",
   "mimetype": "text/x-python",
   "name": "python",
   "nbconvert_exporter": "python",
   "pygments_lexer": "ipython3",
   "version": "3.9.7"
  }
 },
 "nbformat": 4,
 "nbformat_minor": 5
}
