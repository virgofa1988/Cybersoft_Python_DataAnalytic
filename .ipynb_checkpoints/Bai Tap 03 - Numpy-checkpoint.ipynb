{
 "cells": [
  {
   "cell_type": "markdown",
   "id": "505ceb2a",
   "metadata": {},
   "source": [
    "# Bài Tuần 03 - Numpy - Dữ liệu bán lẽ supermarket_sales_vn.csv"
   ]
  },
  {
   "cell_type": "markdown",
   "id": "f02ac039",
   "metadata": {},
   "source": [
    "Thực hiện lại bài tập với dữ liệu bán lẻ ở Tuần 2 nhưng sử dụng Numpy:\n",
    "1. Tìm min, max, mean, median, “mode” cho tổng đơn.\n",
    "2. Tìm min, max, mean, median, “mode” cho tổng đơn theo giới tính\n",
    "3. Tìm min, max, mean, median, “mode” cho tổng đơn theo chi nhánh\n",
    "4. Tìm min, max, mean, median, “mode” cho rating theo giới tính, chi nhánh.\n",
    "5. Lưu các kết quả lên file"
   ]
  },
  {
   "cell_type": "code",
   "execution_count": 86,
   "id": "2c46fe5b",
   "metadata": {},
   "outputs": [],
   "source": [
    "# Import package\n",
    "import csv\n",
    "import numpy as np"
   ]
  },
  {
   "cell_type": "code",
   "execution_count": 144,
   "id": "ed42ea1f",
   "metadata": {},
   "outputs": [],
   "source": [
    "# Đọc dữ liệu\n",
    "filePath = \"./files/supermarket_sale_vn/supermarket_sales_vn.csv\"\n",
    "supermarket_data =[]\n",
    "with open(filePath,mode = \"r\", encoding=\"utf-8\") as f:\n",
    "    supermarket_reader = csv.DictReader(f,delimiter = \",\")\n",
    "    for row in supermarket_reader:\n",
    "        supermarket_data.append(row)\n",
    "    "
   ]
  },
  {
   "cell_type": "code",
   "execution_count": 145,
   "id": "ad58e25c",
   "metadata": {},
   "outputs": [
    {
     "name": "stdout",
     "output_type": "stream",
     "text": [
      "{'Nữ', 'Nam'}\n",
      "{'Đà Nẵng', 'Hà Nội', 'TP HCM'}\n"
     ]
    }
   ],
   "source": [
    "# Lấy mảng cho tổng đơn\n",
    "tong_don = []\n",
    "gioi_tinh = []\n",
    "city_list = []\n",
    "for row in supermarket_data:\n",
    "      tong_don.append(float(row['Total']))\n",
    "      gioi_tinh.append(row['Gender'])\n",
    "      city_list.append(row['City'])\n",
    "print(set(gioi_tinh))\n",
    "print(set(city_list))"
   ]
  },
  {
   "cell_type": "code",
   "execution_count": 192,
   "id": "f6fa9734",
   "metadata": {
    "scrolled": true
   },
   "outputs": [
    {
     "name": "stdout",
     "output_type": "stream",
     "text": [
      "Min Tổng Đơn 10.6785\n",
      "Max Tổng Đơn 1042.65\n",
      "Mean Tổng Đơn 322.966749\n",
      "Median Tổng Đơn 253.848\n",
      "------------\n",
      "Mode Tổng Đơn 82.916505\n"
     ]
    }
   ],
   "source": [
    "# 1. Tìm min, max, mean, median, “mode” cho tổng đơn.\n",
    "print(\"Min Tổng Đơn\", np.min(tong_don))\n",
    "print(\"Max Tổng Đơn\", np.max(tong_don))\n",
    "print(\"Mean Tổng Đơn\", np.mean(tong_don))\n",
    "print(\"Median Tổng Đơn\", np.median(tong_don))\n",
    "print(\"------------\")\n",
    "\n",
    "# Tìm Mode cho tổng đơn\n",
    "# Dùng histogram tìm count và bins\n",
    "count, bins = np.histogram(tong_don, bins = 50)\n",
    "\n",
    "# Tìm index của max count (bins có nhiều giá trị rớt vào)\n",
    "max_count_index = np.argmax(count)\n",
    "\n",
    "#Lấy trung bình giá trị đầu và cuối trong bins dựa vào max_count_index, \n",
    "mode = (bins[max_count_index] + bins[max_count_index + 1] ) /2 \n",
    "print(\"Mode Tổng Đơn\", mode)\n",
    "result = [np.min(tong_don),np.max(tong_don),np.mean(tong_don),np.median(tong_don),mode]\n",
    "np.savetxt('./files/save/tongdon.txt',np.array([result]),delimiter=\",\", header = \"Min, Max, Mean, Median, Mode\",fmt=\"%5d\", encoding = \"utf-8\")"
   ]
  },
  {
   "cell_type": "code",
   "execution_count": 188,
   "id": "b7fc1752",
   "metadata": {},
   "outputs": [
    {
     "data": {
      "text/plain": [
       "[[10.6785, 1042.65, 322.966749, 253.848]]"
      ]
     },
     "execution_count": 188,
     "metadata": {},
     "output_type": "execute_result"
    }
   ],
   "source": [
    "[result]"
   ]
  },
  {
   "cell_type": "code",
   "execution_count": 147,
   "id": "4ec960ab",
   "metadata": {},
   "outputs": [],
   "source": [
    "# 2. Tìm min, max, mean, median, “mode” cho tổng đơn theo giới tính"
   ]
  },
  {
   "cell_type": "code",
   "execution_count": 148,
   "id": "9649e64c",
   "metadata": {},
   "outputs": [],
   "source": [
    "# Lấy mảng cho tổng đơn theo giới tính\n",
    "tong_don_gender={}\n",
    "for gender in list(set(gioi_tinh)):\n",
    "    tong_don_gender[gender] = []\n",
    "    for row in supermarket_data:\n",
    "        if(gender == row['Gender']):tong_don_gender[gender].append(float(row['Total']))"
   ]
  },
  {
   "cell_type": "code",
   "execution_count": 217,
   "id": "9f7f14ac",
   "metadata": {
    "scrolled": false
   },
   "outputs": [
    {
     "name": "stdout",
     "output_type": "stream",
     "text": [
      "Min của Tổng Đơn theo Nữ: 12.6945\n",
      "Max của Tổng Đơn theo Nữ: 1042.65\n",
      "Mean của Tổng Đơn theo Nữ: 335.09565868263473\n",
      "Median của Tổng Đơn theo Nữ: 272.58\n",
      "Mode Tổng Đơn theo Nữ 84.791385\n",
      "----------------------------\n",
      "Min của Tổng Đơn theo Nam: 10.6785\n",
      "Max của Tổng Đơn theo Nam: 1039.29\n",
      "Mean của Tổng Đơn theo Nam: 310.7892264529058\n",
      "Median của Tổng Đơn theo Nam: 244.23\n",
      "Mode Tổng Đơn theo Nam 82.68130500000001\n",
      "----------------------------\n"
     ]
    }
   ],
   "source": [
    "\n",
    "result_gender = []\n",
    "for gender in tong_don_gender:\n",
    "    print(f\"Min của Tổng Đơn theo {gender}:\", np.min(tong_don_gender[gender]))\n",
    "    print(f\"Max của Tổng Đơn theo {gender}:\", np.max(tong_don_gender[gender]))\n",
    "    print(f\"Mean của Tổng Đơn theo {gender}:\", np.mean(tong_don_gender[gender]))\n",
    "    print(f\"Median của Tổng Đơn theo {gender}:\", np.median(tong_don_gender[gender]))    \n",
    "    # Tìm mode\n",
    "    count, bins = np.histogram(tong_don_gender[gender], bins = 50)\n",
    "    max_count_index = np.argmax(count)\n",
    "    mode = (bins[max_count_index] + bins[max_count_index + 1] ) /2\n",
    "    result_gender.append([np.min(tong_don_gender[gender]),np.max(tong_don_gender[gender]),np.mean(tong_don_gender[gender]),np.median(tong_don_gender[gender]),mode])\n",
    "    print(f\"Mode Tổng Đơn theo {gender}\", mode)\n",
    "    print(\"----------------------------\")\n",
    "np.savetxt('./files/save/tongdon_gender.txt',result_gender,delimiter=\",\", header = \"Min, Max, Mean, Median, Mode\",fmt=\"%5d\", encoding = \"utf-8\")"
   ]
  },
  {
   "cell_type": "code",
   "execution_count": 228,
   "id": "85a617bf",
   "metadata": {
    "scrolled": true
   },
   "outputs": [
    {
     "name": "stdout",
     "output_type": "stream",
     "text": [
      "Min của Tổng Đơn theo Đà Nẵng: 20.1075\n",
      "Max của Tổng Đơn theo Đà Nẵng: 1022.49\n",
      "Mean của Tổng Đơn theo Đà Nẵng: 320.9222224576271\n",
      "Median của Tổng Đơn theo Đà Nẵng: 249.65325\n",
      "Mode Tổng Đơn theo Đà Nẵng 90.274275\n",
      "----------------------------\n",
      "Min của Tổng Đơn theo Hà Nội: 12.6945\n",
      "Max của Tổng Đơn theo Hà Nội: 951.825\n",
      "Mean của Tổng Đơn theo Hà Nội: 312.35166240875907\n",
      "Median của Tổng Đơn theo Hà Nội: 236.376\n",
      "Mode Tổng Đơn theo Hà Nội 78.43363500000001\n",
      "----------------------------\n",
      "Min của Tổng Đơn theo TP HCM: 10.6785\n",
      "Max của Tổng Đơn theo TP HCM: 1042.65\n",
      "Mean của Tổng Đơn theo TP HCM: 329.8872428571429\n",
      "Median của Tổng Đơn theo TP HCM: 271.41975\n",
      "Mode Tổng Đơn theo TP HCM 82.916505\n",
      "----------------------------\n"
     ]
    }
   ],
   "source": [
    "# Lấy mảng cho tổng đơn theo city\n",
    "tong_don_city={}\n",
    "result_city = []\n",
    "for city in set(city_list):\n",
    "    tong_don_city[city] = []\n",
    "    for row in supermarket_data:\n",
    "        if(city == row['City']):tong_don_city[city].append(float(row['Total']))\n",
    "for city_name in tong_don_city:\n",
    "    print(f\"Min của Tổng Đơn theo {city_name}:\", np.min(tong_don_city[city_name]))\n",
    "    print(f\"Max của Tổng Đơn theo {city_name}:\", np.max(tong_don_city[city_name]))\n",
    "    print(f\"Mean của Tổng Đơn theo {city_name}:\", np.mean(tong_don_city[city_name]))\n",
    "    print(f\"Median của Tổng Đơn theo {city_name}:\", np.median(tong_don_city[city_name]))    \n",
    "    # Tìm mode\n",
    "    count, bins = np.histogram(tong_don_city[city_name], bins = 50)\n",
    "    max_count_index = np.argmax(count)\n",
    "    mode = (bins[max_count_index] + bins[max_count_index + 1] ) /2\n",
    "    result_city.append([np.min(tong_don_city[city_name]),np.max(tong_don_city[city_name]),np.mean(tong_don_city[city_name]),np.median(tong_don_city[city_name]),mode])\n",
    "    print(f\"Mode Tổng Đơn theo {city_name}\", mode)\n",
    "    print(\"----------------------------\")\n",
    "np.savetxt('./files/save/tongdon_city.txt',result_city,delimiter=\",\", header = \"Min, Max, Mean, Median, Mode\",fmt=\"%5d\", encoding = \"utf-8\")"
   ]
  },
  {
   "cell_type": "code",
   "execution_count": 270,
   "id": "24f6fd95",
   "metadata": {},
   "outputs": [
    {
     "name": "stdout",
     "output_type": "stream",
     "text": [
      "Min của Rating theo Nữ: 4.0\n",
      "Max của Rating theo Nữ: 10.0\n",
      "Mean của Rating theo Nữ: 6.964471057884231\n",
      "Median của Rating theo Nữ: 7.1\n",
      "Mode Rating theo Nữ 7.66\n",
      "----------------------------\n",
      "Min của Rating theo Nam: 4.0\n",
      "Max của Rating theo Nam: 10.0\n",
      "Mean của Rating theo Nam: 6.980961923847695\n",
      "Median của Rating theo Nam: 6.9\n",
      "Mode Rating theo Nam 5.859999999999999\n",
      "----------------------------\n"
     ]
    }
   ],
   "source": [
    "# 4. Tìm min, max, mean, median, “mode” cho rating theo giới tính, chi nhánh.\n",
    "# Lấy mảng cho rating theo giới tính\n",
    "rating_gender={}\n",
    "for gender in list(set(gioi_tinh)):\n",
    "    rating_gender[gender] = []\n",
    "    for row in supermarket_data:\n",
    "        if(gender == row['Gender']):rating_gender[gender].append(float(row['Rating']))\n",
    "resultRate_gender = []\n",
    "for gender in rating_gender:\n",
    "    print(f\"Min của Rating theo {gender}:\", np.min(rating_gender[gender]))\n",
    "    print(f\"Max của Rating theo {gender}:\", np.max(rating_gender[gender]))\n",
    "    print(f\"Mean của Rating theo {gender}:\", np.mean(rating_gender[gender]))\n",
    "    print(f\"Median của Rating theo {gender}:\", np.median(rating_gender[gender]))    \n",
    "    # Tìm mode\n",
    "    count, bins = np.histogram(rating_gender[gender], bins = 50)\n",
    "    max_count_index = np.argmax(count)\n",
    "    mode = (bins[max_count_index] + bins[max_count_index + 1] ) /2\n",
    "    resultRate_gender.append([np.min(rating_gender[gender]),np.max(rating_gender[gender]),np.mean(rating_gender[gender]),np.median(rating_gender[gender]),mode])\n",
    "    print(f\"Mode Rating theo {gender}\", mode)\n",
    "    print(\"----------------------------\")\n",
    "np.savetxt('./files/save/Rating_gender.txt',resultRate_gender,delimiter=\",\", header = \"Min, Max, Mean, Median, Mode\",fmt=\"%5d\", encoding = \"utf-8\")"
   ]
  },
  {
   "cell_type": "code",
   "execution_count": 273,
   "id": "585ea203",
   "metadata": {},
   "outputs": [
    {
     "name": "stdout",
     "output_type": "stream",
     "text": [
      "Min của Rating theo Đà Nẵng: 4.0\n",
      "Max của Rating theo Đà Nẵng: 10.0\n",
      "Mean của Rating theo Đà Nẵng: 6.843220338983051\n",
      "Median của Rating theo Đà Nẵng: 6.7\n",
      "Mode Rating theo Đà Nẵng 6.46\n",
      "----------------------------\n",
      "Min của Rating theo Hà Nội: 4.0\n",
      "Max của Rating theo Hà Nội: 9.9\n",
      "Mean của Rating theo Hà Nội: 6.975182481751825\n",
      "Median của Rating theo Hà Nội: 7.0\n",
      "Mode Rating theo Hà Nội 6.655\n",
      "----------------------------\n",
      "Min của Rating theo TP HCM: 4.0\n",
      "Max của Rating theo TP HCM: 10.0\n",
      "Mean của Rating theo TP HCM: 7.033673469387755\n",
      "Median của Rating theo TP HCM: 7.0\n",
      "Mode Rating theo TP HCM 7.0600000000000005\n",
      "----------------------------\n"
     ]
    }
   ],
   "source": [
    "# Lấy mảng cho tổng đơn theo city\n",
    "rating_city={}\n",
    "resultRate_city = []\n",
    "for city in set(city_list):\n",
    "    rating_city[city] = []\n",
    "    for row in supermarket_data:\n",
    "        if(city == row['City']):rating_city[city].append(float(row['Rating']))\n",
    "for city_name in tong_don_city:\n",
    "    print(f\"Min của Rating theo {city_name}:\", np.min(rating_city[city_name]))\n",
    "    print(f\"Max của Rating theo {city_name}:\", np.max(rating_city[city_name]))\n",
    "    print(f\"Mean của Rating theo {city_name}:\", np.mean(rating_city[city_name]))\n",
    "    print(f\"Median của Rating theo {city_name}:\", np.median(rating_city[city_name]))    \n",
    "    # Tìm mode\n",
    "    count, bins = np.histogram(rating_city[city_name], bins = 50)\n",
    "    max_count_index = np.argmax(count)\n",
    "    mode = (bins[max_count_index] + bins[max_count_index + 1] ) /2\n",
    "    resultRate_city.append([np.min(rating_city[city_name]),np.max(rating_city[city_name]),np.mean(rating_city[city_name]),np.median(rating_city[city_name]),mode,city_name])\n",
    "    print(f\"Mode Rating theo {city_name}\", mode)\n",
    "    print(\"----------------------------\")\n",
    "np.savetxt('./files/save/Rating_city.txt',resultRate_city,delimiter=\",\", header = \"Min, Max, Mean, Median, Mode, City\",fmt='%s', encoding = \"utf-8\")"
   ]
  }
 ],
 "metadata": {
  "kernelspec": {
   "display_name": "Python 3 (ipykernel)",
   "language": "python",
   "name": "python3"
  },
  "language_info": {
   "codemirror_mode": {
    "name": "ipython",
    "version": 3
   },
   "file_extension": ".py",
   "mimetype": "text/x-python",
   "name": "python",
   "nbconvert_exporter": "python",
   "pygments_lexer": "ipython3",
   "version": "3.9.7"
  }
 },
 "nbformat": 4,
 "nbformat_minor": 5
}
