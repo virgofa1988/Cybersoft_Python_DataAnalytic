{
 "cells": [
  {
   "cell_type": "code",
   "execution_count": 23,
   "id": "2c0e7ada",
   "metadata": {},
   "outputs": [],
   "source": [
    "import numpy as np\n",
    "from matplotlib import pyplot as plt\n",
    "np.set_printoptions(precision=3, suppress=True)"
   ]
  },
  {
   "cell_type": "code",
   "execution_count": 24,
   "id": "d5836a1b",
   "metadata": {},
   "outputs": [],
   "source": [
    "#Load data\n",
    "data = np.genfromtxt('./files/chungkhoan/excel_acb.csv', delimiter = \",\", skip_header = 1)"
   ]
  },
  {
   "cell_type": "code",
   "execution_count": 25,
   "id": "c46c5ce6",
   "metadata": {},
   "outputs": [
    {
     "data": {
      "text/plain": [
       "(3664, 14)"
      ]
     },
     "execution_count": 25,
     "metadata": {},
     "output_type": "execute_result"
    }
   ],
   "source": [
    "data.shape"
   ]
  },
  {
   "cell_type": "code",
   "execution_count": 26,
   "id": "3cdd0dd3",
   "metadata": {},
   "outputs": [
    {
     "name": "stdout",
     "output_type": "stream",
     "text": [
      "[ 36.1   35.35  36.   ... 145.   143.2  120.  ]\n",
      "[ 35.55  36.    35.5  ... 138.4  134.7  130.2 ]\n"
     ]
    }
   ],
   "source": [
    "open_price = data[:,7]\n",
    "close_price = data[:,10]\n",
    "print(open_price)\n",
    "print(close_price)"
   ]
  },
  {
   "cell_type": "code",
   "execution_count": 81,
   "id": "75709643",
   "metadata": {},
   "outputs": [
    {
     "name": "stdout",
     "output_type": "stream",
     "text": [
      "Max: 300.0\n",
      "Min: 14.4\n",
      "Range: 285.6\n",
      "Variance: 1807.5687408809354\n"
     ]
    }
   ],
   "source": [
    "# Phân tích về sự mở rộng giá mở cửa\n",
    "max_open_price = np.max(open_price)\n",
    "print('Max:', np.max(open_price))\n",
    "\n",
    "min_open_price = np.min(open_price)\n",
    "print('Min:', np.min(open_price))\n",
    "\n",
    "ran = np.ptp(open_price)\n",
    "print('Range:',ran)\n",
    "\n",
    "var = np.var(open_price)\n",
    "print(\"Variance:\", var)"
   ]
  },
  {
   "cell_type": "code",
   "execution_count": 77,
   "id": "e6777936",
   "metadata": {},
   "outputs": [
    {
     "name": "stdout",
     "output_type": "stream",
     "text": [
      "Số phiên giao dịch: 3664\n",
      "Mean: 39.28587609170305\n",
      "Median: 25.2\n",
      "Mode:  17.256\n"
     ]
    }
   ],
   "source": [
    "# Phân tích Khuynh tập trung giá mở cửa\n",
    "print('Số phiên giao dịch:', np.count_nonzero(open_price))\n",
    "\n",
    "mean = np.mean(open_price)\n",
    "print('Mean:', np.mean(open_price))\n",
    "\n",
    "\n",
    "median_open_price = np.min(open_price)\n",
    "print('Median:', np.median(open_price))\n",
    "\n",
    "#mode\n",
    "count, bins = np.histogram(open_price, bins = 50)\n",
    "max_count_index = np.argmax(count)\n",
    "mode = (bins[max_count_index] + bins[max_count_index+1]) / 2\n",
    "print('Mode: ', mode)"
   ]
  },
  {
   "cell_type": "code",
   "execution_count": 75,
   "id": "94ebc5c7",
   "metadata": {},
   "outputs": [
    {
     "data": {
      "image/png": "[encoded data removed]",
      "text/plain": [
       "<Figure size 576x360 with 1 Axes>"
      ]
     },
     "metadata": {
      "needs_background": "light"
     },
     "output_type": "display_data"
    }
   ],
   "source": [
    "#Biểu đồ phân bố giá mở cửa\n",
    "fig,ax = plt.subplots(figsize = (8,5))\n",
    "ax.hist(open_price, bins = 100, edgecolor='k')\n",
    "\n",
    "ax.axvline(mean, color='red', linestyle = 'dashed', linewidth=1)\n",
    "ax.text(mean + 5, 500, f\"Mean:\\n{mean:.2f}\", color='red')\n",
    "\n",
    "ax.axvline(mode, color='green', linestyle = 'dashed', linewidth=1)\n",
    "ax.text(mode + 2, 600, f\"Mode:\\n{mode:.2f}\", color='green')\n",
    "\n",
    "ax.axvline(median_open_price, color='purple', linestyle = 'dashed', linewidth=1)\n",
    "ax.text(median_open_price - 27, 530, f\"Median:\\n{median_open_price:.2f}\", color='purple')\n",
    "\n",
    "plt.grid(alpha = 0.5)\n",
    "plt.show()"
   ]
  },
  {
   "cell_type": "code",
   "execution_count": null,
   "id": "aa4c8df8",
   "metadata": {},
   "outputs": [],
   "source": []
  }
 ],
 "metadata": {
  "kernelspec": {
   "display_name": "Python 3 (ipykernel)",
   "language": "python",
   "name": "python3"
  },
  "language_info": {
   "codemirror_mode": {
    "name": "ipython",
    "version": 3
   },
   "file_extension": ".py",
   "mimetype": "text/x-python",
   "name": "python",
   "nbconvert_exporter": "python",
   "pygments_lexer": "ipython3",
   "version": "3.9.7"
  }
 },
 "nbformat": 4,
 "nbformat_minor": 5
}
